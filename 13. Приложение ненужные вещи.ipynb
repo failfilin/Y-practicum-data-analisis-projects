{
 "cells": [
  {
   "cell_type": "markdown",
   "metadata": {},
   "source": [
    "Целью проекта является изучение поведения пользователей в приложениии по реализации \"ненужных вещей\".    \n",
    "Для исследования имеем два фрейма со следующими данными :  \n",
    "mobile_sources со столбцами :  \n",
    "mobile_sources  \n",
    "`userId` — идентификатор пользователя    \n",
    "`source` — источник, с которого пользователь установил приложение  \n",
    "mobile_dataset со столбцами :  \n",
    "`event.time` — время совершения  \n",
    "`user.id` — идентификатор пользователя  \n",
    "`event.name` — действие пользователя  \n",
    "Возможные действия пользователей:  \n",
    "`advert_open` — открыл карточки объявления  \n",
    "`photos_show` — просмотрел фотографий в объявлении  \n",
    "`tips_show` — увидел рекомендованные объявления  \n",
    "`tips_click` — кликнул по рекомендованному объявлению  \n",
    "`contacts_show` и `show_contacts` — посмотрел номер телефона  \n",
    "`contacts_call` — позвонил по номеру из объявления  \n",
    "`map` — открыл карту объявлений   \n",
    "`search_1`—`search_7` — разные действия, связанные с поиском по сайту  \n",
    "`favorites_add` — добавил объявление в избранное     \n",
    "\n",
    "### Загрузим и изучим имеющиеся фреймы    \n",
    "Загрузим данные и изучим их структуру    \n",
    "### Предобработка данных   \n",
    "1) Проверим фреймы на наличие дубликатов,пропусков и обработаем их при необходимости    \n",
    "2) Исследуем тип данных во фреймах и приведем данные к нужным нам типам при необходимости  \n",
    "3) Т.к. имеются события такие как 1) contacts_show и show_contacts и 2) search_1 - search_7 , которые по группам не несут относительно друг друга разницы - объединим их  \n",
    "### Исследовательский анализ данных   \n",
    "1) Найдем общее количество уникальных пользователей в имеющихся данных    \n",
    "2) Рассмотрим имеющиеся в логах виды событий и найдем количество пользователей, которые совершали их. Подсчитаем долю   пользователей которые хоть раз совершали событие, заранее разбив наш датасет по пользователям, которые совершали целевое событие, а какие нет   \n",
    "3) Построим матрицу корреляций имеется ли связь между совершением какого либо события и целевого события (просмотра контактов) \n",
    "4) Выделим людей которые совершали событие - просмотр контактов и изучим какие действия они чаще совершают  \n",
    "5) Подготовим данные к последующему статистическому анализу, выделим пользователей в 2 группы :    \n",
    "    а) Пользователи совершающие действия tips_show и tips_click   \n",
    "    б) Пользователи совершающие только tips_show  \n",
    "    и  \n",
    "    а2) Пользователи пришедшие с источника Яндекс   \n",
    "    б2) Пользователи пришедшие с источника Google  \n",
    "### Статистический анализ данных\n",
    "Проверить гипотезу: Конверсия в просмотр контактов между пользователя, совершающие действия tips_show и tips_click, другие — только tips_show - различается  \n",
    "Проверим гипотезу: Конверсия в просмотр контактов между пользователя, с источником  yandex и пользователями, с источником google, различается;  \n",
    "### Общий вывод  \n",
    "Написать общий вывод по проведенным исследованиям и дать свою оценку в необходимсоти события показать контакты   \n",
    "Подготовить презентацию по результатам исследования  "
   ]
  },
  {
   "cell_type": "markdown",
   "metadata": {},
   "source": [
    "### Загрузим и изучим имеющиеся фреймы    \n",
    "Загрузим данные и изучим их структуру"
   ]
  },
  {
   "cell_type": "code",
   "execution_count": 1,
   "metadata": {},
   "outputs": [],
   "source": [
    "import pandas as pd\n",
    "import datetime as dt\n",
    "import numpy as np\n",
    "import math as mth\n",
    "import seaborn as sns\n",
    "import matplotlib.pyplot as plt\n",
    "from matplotlib import pyplot\n",
    "from matplotlib import rcParams\n",
    "import warnings\n",
    "import cmath\n",
    "from scipy import stats as st\n",
    "warnings.filterwarnings('ignore')"
   ]
  },
  {
   "cell_type": "code",
   "execution_count": 2,
   "metadata": {},
   "outputs": [],
   "source": [
    "data = pd.read_csv('mobile_dataset.csv', sep = ',')\n",
    "sources = pd.read_csv('mobile_soures.csv', sep = ',')"
   ]
  },
  {
   "cell_type": "code",
   "execution_count": 3,
   "metadata": {},
   "outputs": [
    {
     "name": "stdout",
     "output_type": "stream",
     "text": [
      "<class 'pandas.core.frame.DataFrame'>\n",
      "RangeIndex: 74197 entries, 0 to 74196\n",
      "Data columns (total 3 columns):\n",
      " #   Column      Non-Null Count  Dtype \n",
      "---  ------      --------------  ----- \n",
      " 0   event.time  74197 non-null  object\n",
      " 1   event.name  74197 non-null  object\n",
      " 2   user.id     74197 non-null  object\n",
      "dtypes: object(3)\n",
      "memory usage: 1.7+ MB\n",
      "None\n",
      "<class 'pandas.core.frame.DataFrame'>\n",
      "RangeIndex: 4293 entries, 0 to 4292\n",
      "Data columns (total 2 columns):\n",
      " #   Column  Non-Null Count  Dtype \n",
      "---  ------  --------------  ----- \n",
      " 0   userId  4293 non-null   object\n",
      " 1   source  4293 non-null   object\n",
      "dtypes: object(2)\n",
      "memory usage: 67.2+ KB\n",
      "None\n"
     ]
    }
   ],
   "source": [
    "for df in [data, sources]:\n",
    "    print(df.info())"
   ]
  },
  {
   "cell_type": "code",
   "execution_count": 4,
   "metadata": {},
   "outputs": [
    {
     "name": "stdout",
     "output_type": "stream",
     "text": [
      "event.time    0\n",
      "event.name    0\n",
      "user.id       0\n",
      "dtype: int64\n",
      "userId    0\n",
      "source    0\n",
      "dtype: int64\n"
     ]
    }
   ],
   "source": [
    "for df in [data, sources]:\n",
    "    print(df.isna().sum())"
   ]
  },
  {
   "cell_type": "code",
   "execution_count": 5,
   "metadata": {},
   "outputs": [
    {
     "name": "stdout",
     "output_type": "stream",
     "text": [
      "0\n",
      "0\n"
     ]
    }
   ],
   "source": [
    "for df in [data, sources]:\n",
    "    print(df.duplicated().sum())"
   ]
  },
  {
   "cell_type": "code",
   "execution_count": 6,
   "metadata": {},
   "outputs": [
    {
     "data": {
      "text/html": [
       "<div>\n",
       "<style scoped>\n",
       "    .dataframe tbody tr th:only-of-type {\n",
       "        vertical-align: middle;\n",
       "    }\n",
       "\n",
       "    .dataframe tbody tr th {\n",
       "        vertical-align: top;\n",
       "    }\n",
       "\n",
       "    .dataframe thead th {\n",
       "        text-align: right;\n",
       "    }\n",
       "</style>\n",
       "<table border=\"1\" class=\"dataframe\">\n",
       "  <thead>\n",
       "    <tr style=\"text-align: right;\">\n",
       "      <th></th>\n",
       "      <th>event.time</th>\n",
       "      <th>event.name</th>\n",
       "      <th>user.id</th>\n",
       "    </tr>\n",
       "  </thead>\n",
       "  <tbody>\n",
       "    <tr>\n",
       "      <th>0</th>\n",
       "      <td>2019-10-07 00:00:00.431357</td>\n",
       "      <td>advert_open</td>\n",
       "      <td>020292ab-89bc-4156-9acf-68bc2783f894</td>\n",
       "    </tr>\n",
       "    <tr>\n",
       "      <th>1</th>\n",
       "      <td>2019-10-07 00:00:01.236320</td>\n",
       "      <td>tips_show</td>\n",
       "      <td>020292ab-89bc-4156-9acf-68bc2783f894</td>\n",
       "    </tr>\n",
       "    <tr>\n",
       "      <th>2</th>\n",
       "      <td>2019-10-07 00:00:02.245341</td>\n",
       "      <td>tips_show</td>\n",
       "      <td>cf7eda61-9349-469f-ac27-e5b6f5ec475c</td>\n",
       "    </tr>\n",
       "    <tr>\n",
       "      <th>3</th>\n",
       "      <td>2019-10-07 00:00:07.039334</td>\n",
       "      <td>tips_show</td>\n",
       "      <td>020292ab-89bc-4156-9acf-68bc2783f894</td>\n",
       "    </tr>\n",
       "    <tr>\n",
       "      <th>4</th>\n",
       "      <td>2019-10-07 00:00:56.319813</td>\n",
       "      <td>advert_open</td>\n",
       "      <td>cf7eda61-9349-469f-ac27-e5b6f5ec475c</td>\n",
       "    </tr>\n",
       "  </tbody>\n",
       "</table>\n",
       "</div>"
      ],
      "text/plain": [
       "                   event.time   event.name  \\\n",
       "0  2019-10-07 00:00:00.431357  advert_open   \n",
       "1  2019-10-07 00:00:01.236320    tips_show   \n",
       "2  2019-10-07 00:00:02.245341    tips_show   \n",
       "3  2019-10-07 00:00:07.039334    tips_show   \n",
       "4  2019-10-07 00:00:56.319813  advert_open   \n",
       "\n",
       "                                user.id  \n",
       "0  020292ab-89bc-4156-9acf-68bc2783f894  \n",
       "1  020292ab-89bc-4156-9acf-68bc2783f894  \n",
       "2  cf7eda61-9349-469f-ac27-e5b6f5ec475c  \n",
       "3  020292ab-89bc-4156-9acf-68bc2783f894  \n",
       "4  cf7eda61-9349-469f-ac27-e5b6f5ec475c  "
      ]
     },
     "metadata": {},
     "output_type": "display_data"
    },
    {
     "data": {
      "text/html": [
       "<div>\n",
       "<style scoped>\n",
       "    .dataframe tbody tr th:only-of-type {\n",
       "        vertical-align: middle;\n",
       "    }\n",
       "\n",
       "    .dataframe tbody tr th {\n",
       "        vertical-align: top;\n",
       "    }\n",
       "\n",
       "    .dataframe thead th {\n",
       "        text-align: right;\n",
       "    }\n",
       "</style>\n",
       "<table border=\"1\" class=\"dataframe\">\n",
       "  <thead>\n",
       "    <tr style=\"text-align: right;\">\n",
       "      <th></th>\n",
       "      <th>userId</th>\n",
       "      <th>source</th>\n",
       "    </tr>\n",
       "  </thead>\n",
       "  <tbody>\n",
       "    <tr>\n",
       "      <th>0</th>\n",
       "      <td>020292ab-89bc-4156-9acf-68bc2783f894</td>\n",
       "      <td>other</td>\n",
       "    </tr>\n",
       "    <tr>\n",
       "      <th>1</th>\n",
       "      <td>cf7eda61-9349-469f-ac27-e5b6f5ec475c</td>\n",
       "      <td>yandex</td>\n",
       "    </tr>\n",
       "    <tr>\n",
       "      <th>2</th>\n",
       "      <td>8c356c42-3ba9-4cb6-80b8-3f868d0192c3</td>\n",
       "      <td>yandex</td>\n",
       "    </tr>\n",
       "    <tr>\n",
       "      <th>3</th>\n",
       "      <td>d9b06b47-0f36-419b-bbb0-3533e582a6cb</td>\n",
       "      <td>other</td>\n",
       "    </tr>\n",
       "    <tr>\n",
       "      <th>4</th>\n",
       "      <td>f32e1e2a-3027-4693-b793-b7b3ff274439</td>\n",
       "      <td>google</td>\n",
       "    </tr>\n",
       "  </tbody>\n",
       "</table>\n",
       "</div>"
      ],
      "text/plain": [
       "                                 userId  source\n",
       "0  020292ab-89bc-4156-9acf-68bc2783f894   other\n",
       "1  cf7eda61-9349-469f-ac27-e5b6f5ec475c  yandex\n",
       "2  8c356c42-3ba9-4cb6-80b8-3f868d0192c3  yandex\n",
       "3  d9b06b47-0f36-419b-bbb0-3533e582a6cb   other\n",
       "4  f32e1e2a-3027-4693-b793-b7b3ff274439  google"
      ]
     },
     "metadata": {},
     "output_type": "display_data"
    }
   ],
   "source": [
    "for df in [data, sources]:\n",
    "    display(df.head(5))"
   ]
  },
  {
   "cell_type": "markdown",
   "metadata": {},
   "source": [
    "### Вывод\n",
    "дубликатов и пропущенных значений не обнаружено;  \n",
    "нужно изменить названия столбцов в обоих датасетах;  \n",
    "привести столбец с датой к формату даты;  \n",
    "необходимо изменить названия столбцов в обоих датасетах \n",
    "привести столбец с датой к формату даты;  \n",
    "объединить события show_contact и contact_show;  \n",
    "объединить события search_1 - search_7 в одно, т.к. нам не важно что и менно искали, а сам факт поиска  "
   ]
  },
  {
   "cell_type": "markdown",
   "metadata": {},
   "source": [
    "### Предобработка данных"
   ]
  },
  {
   "cell_type": "markdown",
   "metadata": {},
   "source": [
    "Приведем названия столбцов к удобному для нас формату"
   ]
  },
  {
   "cell_type": "code",
   "execution_count": 7,
   "metadata": {},
   "outputs": [
    {
     "data": {
      "text/html": [
       "<div>\n",
       "<style scoped>\n",
       "    .dataframe tbody tr th:only-of-type {\n",
       "        vertical-align: middle;\n",
       "    }\n",
       "\n",
       "    .dataframe tbody tr th {\n",
       "        vertical-align: top;\n",
       "    }\n",
       "\n",
       "    .dataframe thead th {\n",
       "        text-align: right;\n",
       "    }\n",
       "</style>\n",
       "<table border=\"1\" class=\"dataframe\">\n",
       "  <thead>\n",
       "    <tr style=\"text-align: right;\">\n",
       "      <th></th>\n",
       "      <th>event_time</th>\n",
       "      <th>event_name</th>\n",
       "      <th>user_id</th>\n",
       "    </tr>\n",
       "  </thead>\n",
       "  <tbody>\n",
       "    <tr>\n",
       "      <th>0</th>\n",
       "      <td>2019-10-07 00:00:00.431357</td>\n",
       "      <td>advert_open</td>\n",
       "      <td>020292ab-89bc-4156-9acf-68bc2783f894</td>\n",
       "    </tr>\n",
       "    <tr>\n",
       "      <th>1</th>\n",
       "      <td>2019-10-07 00:00:01.236320</td>\n",
       "      <td>tips_show</td>\n",
       "      <td>020292ab-89bc-4156-9acf-68bc2783f894</td>\n",
       "    </tr>\n",
       "    <tr>\n",
       "      <th>2</th>\n",
       "      <td>2019-10-07 00:00:02.245341</td>\n",
       "      <td>tips_show</td>\n",
       "      <td>cf7eda61-9349-469f-ac27-e5b6f5ec475c</td>\n",
       "    </tr>\n",
       "    <tr>\n",
       "      <th>3</th>\n",
       "      <td>2019-10-07 00:00:07.039334</td>\n",
       "      <td>tips_show</td>\n",
       "      <td>020292ab-89bc-4156-9acf-68bc2783f894</td>\n",
       "    </tr>\n",
       "    <tr>\n",
       "      <th>4</th>\n",
       "      <td>2019-10-07 00:00:56.319813</td>\n",
       "      <td>advert_open</td>\n",
       "      <td>cf7eda61-9349-469f-ac27-e5b6f5ec475c</td>\n",
       "    </tr>\n",
       "  </tbody>\n",
       "</table>\n",
       "</div>"
      ],
      "text/plain": [
       "                   event_time   event_name  \\\n",
       "0  2019-10-07 00:00:00.431357  advert_open   \n",
       "1  2019-10-07 00:00:01.236320    tips_show   \n",
       "2  2019-10-07 00:00:02.245341    tips_show   \n",
       "3  2019-10-07 00:00:07.039334    tips_show   \n",
       "4  2019-10-07 00:00:56.319813  advert_open   \n",
       "\n",
       "                                user_id  \n",
       "0  020292ab-89bc-4156-9acf-68bc2783f894  \n",
       "1  020292ab-89bc-4156-9acf-68bc2783f894  \n",
       "2  cf7eda61-9349-469f-ac27-e5b6f5ec475c  \n",
       "3  020292ab-89bc-4156-9acf-68bc2783f894  \n",
       "4  cf7eda61-9349-469f-ac27-e5b6f5ec475c  "
      ]
     },
     "execution_count": 7,
     "metadata": {},
     "output_type": "execute_result"
    }
   ],
   "source": [
    "data.columns = ['event_time', 'event_name', 'user_id']\n",
    "data.head()"
   ]
  },
  {
   "cell_type": "code",
   "execution_count": 8,
   "metadata": {},
   "outputs": [
    {
     "data": {
      "text/html": [
       "<div>\n",
       "<style scoped>\n",
       "    .dataframe tbody tr th:only-of-type {\n",
       "        vertical-align: middle;\n",
       "    }\n",
       "\n",
       "    .dataframe tbody tr th {\n",
       "        vertical-align: top;\n",
       "    }\n",
       "\n",
       "    .dataframe thead th {\n",
       "        text-align: right;\n",
       "    }\n",
       "</style>\n",
       "<table border=\"1\" class=\"dataframe\">\n",
       "  <thead>\n",
       "    <tr style=\"text-align: right;\">\n",
       "      <th></th>\n",
       "      <th>user_id</th>\n",
       "      <th>source</th>\n",
       "    </tr>\n",
       "  </thead>\n",
       "  <tbody>\n",
       "    <tr>\n",
       "      <th>0</th>\n",
       "      <td>020292ab-89bc-4156-9acf-68bc2783f894</td>\n",
       "      <td>other</td>\n",
       "    </tr>\n",
       "    <tr>\n",
       "      <th>1</th>\n",
       "      <td>cf7eda61-9349-469f-ac27-e5b6f5ec475c</td>\n",
       "      <td>yandex</td>\n",
       "    </tr>\n",
       "    <tr>\n",
       "      <th>2</th>\n",
       "      <td>8c356c42-3ba9-4cb6-80b8-3f868d0192c3</td>\n",
       "      <td>yandex</td>\n",
       "    </tr>\n",
       "    <tr>\n",
       "      <th>3</th>\n",
       "      <td>d9b06b47-0f36-419b-bbb0-3533e582a6cb</td>\n",
       "      <td>other</td>\n",
       "    </tr>\n",
       "    <tr>\n",
       "      <th>4</th>\n",
       "      <td>f32e1e2a-3027-4693-b793-b7b3ff274439</td>\n",
       "      <td>google</td>\n",
       "    </tr>\n",
       "  </tbody>\n",
       "</table>\n",
       "</div>"
      ],
      "text/plain": [
       "                                user_id  source\n",
       "0  020292ab-89bc-4156-9acf-68bc2783f894   other\n",
       "1  cf7eda61-9349-469f-ac27-e5b6f5ec475c  yandex\n",
       "2  8c356c42-3ba9-4cb6-80b8-3f868d0192c3  yandex\n",
       "3  d9b06b47-0f36-419b-bbb0-3533e582a6cb   other\n",
       "4  f32e1e2a-3027-4693-b793-b7b3ff274439  google"
      ]
     },
     "execution_count": 8,
     "metadata": {},
     "output_type": "execute_result"
    }
   ],
   "source": [
    "sources.columns = ['user_id', 'source']\n",
    "sources.head()"
   ]
  },
  {
   "cell_type": "markdown",
   "metadata": {},
   "source": [
    "Приведем столбцец event_time датасета data к формату даты"
   ]
  },
  {
   "cell_type": "code",
   "execution_count": 9,
   "metadata": {},
   "outputs": [
    {
     "data": {
      "text/html": [
       "<div>\n",
       "<style scoped>\n",
       "    .dataframe tbody tr th:only-of-type {\n",
       "        vertical-align: middle;\n",
       "    }\n",
       "\n",
       "    .dataframe tbody tr th {\n",
       "        vertical-align: top;\n",
       "    }\n",
       "\n",
       "    .dataframe thead th {\n",
       "        text-align: right;\n",
       "    }\n",
       "</style>\n",
       "<table border=\"1\" class=\"dataframe\">\n",
       "  <thead>\n",
       "    <tr style=\"text-align: right;\">\n",
       "      <th></th>\n",
       "      <th>event_time</th>\n",
       "      <th>event_name</th>\n",
       "      <th>user_id</th>\n",
       "    </tr>\n",
       "  </thead>\n",
       "  <tbody>\n",
       "    <tr>\n",
       "      <th>0</th>\n",
       "      <td>2019-10-07 00:00:00</td>\n",
       "      <td>advert_open</td>\n",
       "      <td>020292ab-89bc-4156-9acf-68bc2783f894</td>\n",
       "    </tr>\n",
       "    <tr>\n",
       "      <th>1</th>\n",
       "      <td>2019-10-07 00:00:01</td>\n",
       "      <td>tips_show</td>\n",
       "      <td>020292ab-89bc-4156-9acf-68bc2783f894</td>\n",
       "    </tr>\n",
       "    <tr>\n",
       "      <th>2</th>\n",
       "      <td>2019-10-07 00:00:02</td>\n",
       "      <td>tips_show</td>\n",
       "      <td>cf7eda61-9349-469f-ac27-e5b6f5ec475c</td>\n",
       "    </tr>\n",
       "    <tr>\n",
       "      <th>3</th>\n",
       "      <td>2019-10-07 00:00:07</td>\n",
       "      <td>tips_show</td>\n",
       "      <td>020292ab-89bc-4156-9acf-68bc2783f894</td>\n",
       "    </tr>\n",
       "    <tr>\n",
       "      <th>4</th>\n",
       "      <td>2019-10-07 00:00:56</td>\n",
       "      <td>advert_open</td>\n",
       "      <td>cf7eda61-9349-469f-ac27-e5b6f5ec475c</td>\n",
       "    </tr>\n",
       "  </tbody>\n",
       "</table>\n",
       "</div>"
      ],
      "text/plain": [
       "           event_time   event_name                               user_id\n",
       "0 2019-10-07 00:00:00  advert_open  020292ab-89bc-4156-9acf-68bc2783f894\n",
       "1 2019-10-07 00:00:01    tips_show  020292ab-89bc-4156-9acf-68bc2783f894\n",
       "2 2019-10-07 00:00:02    tips_show  cf7eda61-9349-469f-ac27-e5b6f5ec475c\n",
       "3 2019-10-07 00:00:07    tips_show  020292ab-89bc-4156-9acf-68bc2783f894\n",
       "4 2019-10-07 00:00:56  advert_open  cf7eda61-9349-469f-ac27-e5b6f5ec475c"
      ]
     },
     "execution_count": 9,
     "metadata": {},
     "output_type": "execute_result"
    }
   ],
   "source": [
    "data['event_time'] = pd.to_datetime(data['event_time'], format='%Y.%m.%d %H:%M:%S').dt.round('1S')\n",
    "data.head()"
   ]
  },
  {
   "cell_type": "markdown",
   "metadata": {},
   "source": [
    "Объединим события  "
   ]
  },
  {
   "cell_type": "code",
   "execution_count": 10,
   "metadata": {},
   "outputs": [
    {
     "data": {
      "text/plain": [
       "tips_show        40055\n",
       "photos_show      10012\n",
       "search            6784\n",
       "advert_open       6164\n",
       "show_contacts     4529\n",
       "map               3881\n",
       "favorites_add     1417\n",
       "tips_click         814\n",
       "contacts_call      541\n",
       "Name: event_name, dtype: int64"
      ]
     },
     "execution_count": 10,
     "metadata": {},
     "output_type": "execute_result"
    }
   ],
   "source": [
    "data = data.replace('contacts_show', 'show_contacts')\n",
    "data = data.replace([['search_1', 'search_2', 'search_3', 'search_4', 'search_5', 'search_6', 'search_7']], 'search')\n",
    "data['event_name'].value_counts()"
   ]
  },
  {
   "cell_type": "markdown",
   "metadata": {},
   "source": [
    "Объединим наши данные"
   ]
  },
  {
   "cell_type": "code",
   "execution_count": 11,
   "metadata": {},
   "outputs": [
    {
     "data": {
      "text/html": [
       "<div>\n",
       "<style scoped>\n",
       "    .dataframe tbody tr th:only-of-type {\n",
       "        vertical-align: middle;\n",
       "    }\n",
       "\n",
       "    .dataframe tbody tr th {\n",
       "        vertical-align: top;\n",
       "    }\n",
       "\n",
       "    .dataframe thead th {\n",
       "        text-align: right;\n",
       "    }\n",
       "</style>\n",
       "<table border=\"1\" class=\"dataframe\">\n",
       "  <thead>\n",
       "    <tr style=\"text-align: right;\">\n",
       "      <th></th>\n",
       "      <th>event_time</th>\n",
       "      <th>event_name</th>\n",
       "      <th>user_id</th>\n",
       "      <th>source</th>\n",
       "    </tr>\n",
       "  </thead>\n",
       "  <tbody>\n",
       "    <tr>\n",
       "      <th>0</th>\n",
       "      <td>2019-10-07 00:00:00</td>\n",
       "      <td>advert_open</td>\n",
       "      <td>020292ab-89bc-4156-9acf-68bc2783f894</td>\n",
       "      <td>other</td>\n",
       "    </tr>\n",
       "    <tr>\n",
       "      <th>1</th>\n",
       "      <td>2019-10-07 00:00:01</td>\n",
       "      <td>tips_show</td>\n",
       "      <td>020292ab-89bc-4156-9acf-68bc2783f894</td>\n",
       "      <td>other</td>\n",
       "    </tr>\n",
       "    <tr>\n",
       "      <th>2</th>\n",
       "      <td>2019-10-07 00:00:07</td>\n",
       "      <td>tips_show</td>\n",
       "      <td>020292ab-89bc-4156-9acf-68bc2783f894</td>\n",
       "      <td>other</td>\n",
       "    </tr>\n",
       "    <tr>\n",
       "      <th>3</th>\n",
       "      <td>2019-10-07 00:01:28</td>\n",
       "      <td>advert_open</td>\n",
       "      <td>020292ab-89bc-4156-9acf-68bc2783f894</td>\n",
       "      <td>other</td>\n",
       "    </tr>\n",
       "    <tr>\n",
       "      <th>4</th>\n",
       "      <td>2019-10-07 00:01:35</td>\n",
       "      <td>tips_show</td>\n",
       "      <td>020292ab-89bc-4156-9acf-68bc2783f894</td>\n",
       "      <td>other</td>\n",
       "    </tr>\n",
       "  </tbody>\n",
       "</table>\n",
       "</div>"
      ],
      "text/plain": [
       "           event_time   event_name                               user_id  \\\n",
       "0 2019-10-07 00:00:00  advert_open  020292ab-89bc-4156-9acf-68bc2783f894   \n",
       "1 2019-10-07 00:00:01    tips_show  020292ab-89bc-4156-9acf-68bc2783f894   \n",
       "2 2019-10-07 00:00:07    tips_show  020292ab-89bc-4156-9acf-68bc2783f894   \n",
       "3 2019-10-07 00:01:28  advert_open  020292ab-89bc-4156-9acf-68bc2783f894   \n",
       "4 2019-10-07 00:01:35    tips_show  020292ab-89bc-4156-9acf-68bc2783f894   \n",
       "\n",
       "  source  \n",
       "0  other  \n",
       "1  other  \n",
       "2  other  \n",
       "3  other  \n",
       "4  other  "
      ]
     },
     "execution_count": 11,
     "metadata": {},
     "output_type": "execute_result"
    }
   ],
   "source": [
    "data = data.merge(sources, on='user_id', how = 'right')\n",
    "data.head()"
   ]
  },
  {
   "cell_type": "markdown",
   "metadata": {},
   "source": [
    "### Исследовательский анализ данных"
   ]
  },
  {
   "cell_type": "markdown",
   "metadata": {},
   "source": [
    "Посчитаем общее количество пользователей в логах"
   ]
  },
  {
   "cell_type": "code",
   "execution_count": 12,
   "metadata": {},
   "outputs": [
    {
     "data": {
      "text/plain": [
       "4293"
      ]
     },
     "execution_count": 12,
     "metadata": {},
     "output_type": "execute_result"
    }
   ],
   "source": [
    "data['user_id'].nunique()"
   ]
  },
  {
   "cell_type": "markdown",
   "metadata": {},
   "source": [
    "В датасете имеется 4293 уникальных пользователей"
   ]
  },
  {
   "cell_type": "code",
   "execution_count": 13,
   "metadata": {},
   "outputs": [
    {
     "data": {
      "text/plain": [
       "22.851153039832283"
      ]
     },
     "execution_count": 13,
     "metadata": {},
     "output_type": "execute_result"
    }
   ],
   "source": [
    "# посчитаем конверсию пользователей в целевое событие\n",
    "(data.query('event_name==\"show_contacts\"')['user_id'].nunique() / data['user_id'].nunique()) * 100"
   ]
  },
  {
   "cell_type": "markdown",
   "metadata": {},
   "source": [
    "##### Конверсия пользователей в целевое событие - просмотр контактов составляет 23%"
   ]
  },
  {
   "cell_type": "markdown",
   "metadata": {},
   "source": [
    "Разобьем данные на 2 части :  \n",
    "1. Пользователи которые не соврешали целевое событие (просмотр контактов)  \n",
    "2. Пользователи которые это действие совершили"
   ]
  },
  {
   "cell_type": "code",
   "execution_count": 14,
   "metadata": {},
   "outputs": [
    {
     "data": {
      "text/plain": [
       "981"
      ]
     },
     "execution_count": 14,
     "metadata": {},
     "output_type": "execute_result"
    }
   ],
   "source": [
    "user_list  = data.loc[data['event_name'] == 'show_contacts', 'user_id']\n",
    "user_list = user_list.drop_duplicates().reset_index(drop = True)\n",
    "user_list_contacts = user_list.to_list()\n",
    "len(user_list_contacts)"
   ]
  },
  {
   "cell_type": "markdown",
   "metadata": {},
   "source": [
    "Количество уникальных пользователей которые просматривали контакты - 981 (около 23% всех пользователей)"
   ]
  },
  {
   "cell_type": "code",
   "execution_count": 15,
   "metadata": {},
   "outputs": [],
   "source": [
    "# выбираем все стрроки из фрейма для пользователей, которые просматривали контакты хоть раз\n",
    "data_show =  data.query('user_id in @user_list_contacts')\n"
   ]
  },
  {
   "cell_type": "code",
   "execution_count": 16,
   "metadata": {},
   "outputs": [],
   "source": [
    "data_not_show =  data.query('user_id not in @user_list_contacts')\n"
   ]
  },
  {
   "cell_type": "code",
   "execution_count": 17,
   "metadata": {
    "scrolled": false
   },
   "outputs": [
    {
     "name": "stdout",
     "output_type": "stream",
     "text": [
      "<class 'pandas.core.frame.DataFrame'>\n",
      "Int64Index: 47000 entries, 0 to 74196\n",
      "Data columns (total 4 columns):\n",
      " #   Column      Non-Null Count  Dtype         \n",
      "---  ------      --------------  -----         \n",
      " 0   event_time  47000 non-null  datetime64[ns]\n",
      " 1   event_name  47000 non-null  object        \n",
      " 2   user_id     47000 non-null  object        \n",
      " 3   source      47000 non-null  object        \n",
      "dtypes: datetime64[ns](1), object(3)\n",
      "memory usage: 1.8+ MB\n"
     ]
    }
   ],
   "source": [
    "data_not_show.info()"
   ]
  },
  {
   "cell_type": "code",
   "execution_count": 18,
   "metadata": {
    "scrolled": false
   },
   "outputs": [
    {
     "name": "stdout",
     "output_type": "stream",
     "text": [
      "<class 'pandas.core.frame.DataFrame'>\n",
      "Int64Index: 27197 entries, 121 to 74191\n",
      "Data columns (total 4 columns):\n",
      " #   Column      Non-Null Count  Dtype         \n",
      "---  ------      --------------  -----         \n",
      " 0   event_time  27197 non-null  datetime64[ns]\n",
      " 1   event_name  27197 non-null  object        \n",
      " 2   user_id     27197 non-null  object        \n",
      " 3   source      27197 non-null  object        \n",
      "dtypes: datetime64[ns](1), object(3)\n",
      "memory usage: 1.0+ MB\n"
     ]
    }
   ],
   "source": [
    "data_show.info()"
   ]
  },
  {
   "cell_type": "code",
   "execution_count": 19,
   "metadata": {
    "scrolled": false
   },
   "outputs": [
    {
     "data": {
      "text/plain": [
       "tips_show        12768\n",
       "show_contacts     4529\n",
       "photos_show       3828\n",
       "search            2084\n",
       "advert_open       1589\n",
       "map               1101\n",
       "contacts_call      541\n",
       "favorites_add      424\n",
       "tips_click         333\n",
       "Name: event_name, dtype: int64"
      ]
     },
     "execution_count": 19,
     "metadata": {},
     "output_type": "execute_result"
    }
   ],
   "source": [
    "data_show['event_name'].value_counts()"
   ]
  },
  {
   "cell_type": "code",
   "execution_count": 20,
   "metadata": {
    "scrolled": false
   },
   "outputs": [
    {
     "data": {
      "text/plain": [
       "tips_show        27287\n",
       "photos_show       6184\n",
       "search            4700\n",
       "advert_open       4575\n",
       "map               2780\n",
       "favorites_add      993\n",
       "tips_click         481\n",
       "Name: event_name, dtype: int64"
      ]
     },
     "execution_count": 20,
     "metadata": {},
     "output_type": "execute_result"
    }
   ],
   "source": [
    "data_not_show['event_name'].value_counts()"
   ]
  },
  {
   "cell_type": "markdown",
   "metadata": {},
   "source": [
    "Просмотр контактов по частоте занимает 2 место у пользователей(после показа рекомендованных) которые вообще их открывали, при этом звонок по полученному контакту занимает 3 место с конца. Посмотрим отношение звонков к количество раз просмотренных контактов.\n"
   ]
  },
  {
   "cell_type": "code",
   "execution_count": 21,
   "metadata": {},
   "outputs": [
    {
     "data": {
      "text/plain": [
       "4529"
      ]
     },
     "execution_count": 21,
     "metadata": {},
     "output_type": "execute_result"
    }
   ],
   "source": [
    "show = data_show.loc[data_show['event_name'] == 'show_contacts','user_id'].count()\n",
    "show"
   ]
  },
  {
   "cell_type": "code",
   "execution_count": 22,
   "metadata": {},
   "outputs": [
    {
     "data": {
      "text/plain": [
       "541"
      ]
     },
     "execution_count": 22,
     "metadata": {},
     "output_type": "execute_result"
    }
   ],
   "source": [
    "calls = data_show.loc[data_show['event_name'] == 'contacts_call','user_id'].count()\n",
    "calls"
   ]
  },
  {
   "cell_type": "code",
   "execution_count": 23,
   "metadata": {},
   "outputs": [
    {
     "data": {
      "text/plain": [
       "'11.95'"
      ]
     },
     "execution_count": 23,
     "metadata": {},
     "output_type": "execute_result"
    }
   ],
   "source": [
    "perc_calls_show = calls / show * 100\n",
    "perc_calls_to_all = calls / data_show['user_id'].count() * 100\n",
    "perc_calls_show =np.format_float_positional(perc_calls_show, precision=2)\n",
    "perc_calls_to_all =np.format_float_positional(perc_calls_to_all, precision=2)\n",
    "perc_calls_show"
   ]
  },
  {
   "cell_type": "code",
   "execution_count": 24,
   "metadata": {},
   "outputs": [],
   "source": [
    "for_pie_show= data_show.groupby(['event_name'], as_index = False)['user_id'].count().sort_values('user_id', ascending = False)\n",
    "for_pie_not_show= data_not_show.groupby(['event_name'], as_index = False)['user_id'].count().sort_values('user_id', ascending = False)"
   ]
  },
  {
   "cell_type": "code",
   "execution_count": 25,
   "metadata": {},
   "outputs": [
    {
     "data": {
      "text/plain": [
       "Text(0.5, 1.0, 'Соотношение действий совершненные пользователями просматривающие контакты')"
      ]
     },
     "execution_count": 25,
     "metadata": {},
     "output_type": "execute_result"
    },
    {
     "data": {
      "image/png": "[encoded data removed]",
      "text/plain": [
       "<Figure size 792x1440 with 1 Axes>"
      ]
     },
     "metadata": {},
     "output_type": "display_data"
    }
   ],
   "source": [
    "for_pie_show.plot(y = 'user_id', kind = 'pie',labels = for_pie_show['event_name'], autopct='%1.1f%%', figsize = (11,20))\n",
    "plt.title('Соотношение действий совершненные пользователями просматривающие контакты')"
   ]
  },
  {
   "cell_type": "code",
   "execution_count": 26,
   "metadata": {},
   "outputs": [
    {
     "data": {
      "text/plain": [
       "Text(0.5, 1.0, 'Соотношение действий совершненные пользователями не просматривающие контакты')"
      ]
     },
     "execution_count": 26,
     "metadata": {},
     "output_type": "execute_result"
    },
    {
     "data": {
      "image/png": "[encoded data removed]",
      "text/plain": [
       "<Figure size 792x1440 with 1 Axes>"
      ]
     },
     "metadata": {},
     "output_type": "display_data"
    }
   ],
   "source": [
    "for_pie_not_show.plot(y = 'user_id', kind = 'pie',labels = for_pie_not_show['event_name'], autopct='%1.1f%%', figsize = (11,20))\n",
    "plt.title('Соотношение действий совершненные пользователями не просматривающие контакты')"
   ]
  },
  {
   "cell_type": "markdown",
   "metadata": {},
   "source": [
    "Основная разница в соотношениии действий - в группе пользователей которые не просматривали контакты на 11% больше действий - просмотр рекомендованного, по всепм остальным пунктам разница практически отсутствует "
   ]
  },
  {
   "cell_type": "code",
   "execution_count": 27,
   "metadata": {},
   "outputs": [
    {
     "name": "stdout",
     "output_type": "stream",
     "text": [
      "Отношение звонков к просмотру контактов  11.95\n",
      "Отношение звонков к всем действия группы 1.99\n"
     ]
    }
   ],
   "source": [
    "print('Отношение звонков к просмотру контактов ', perc_calls_show)\n",
    "print('Отношение звонков к всем действия группы', perc_calls_to_all)"
   ]
  },
  {
   "cell_type": "markdown",
   "metadata": {},
   "source": [
    "Только в 12 % случаев после просмотра контактов был совершен звонок продавцу, а по отношению ко все действия выделенной группы (! а даже не от всех действий всех пользователей)это действие составляет всего 2 % от общего. "
   ]
  },
  {
   "cell_type": "markdown",
   "metadata": {},
   "source": [
    "### Вывод  \n",
    "Явных отличительных особенностей в действиях 2 групп - просматривающих и нет контакты пользователей не обнаружено.  ТОп действий для этих 2 групп (если опускать просмотр контактов) примерно одинаковый. Не смотря на то, что в группе пользователей которые просматривают контакты эта активность занимает 2 место по количеству (что не лпохо результат),но  последующий звонок совершается только в 12 % случаев, а само целевое действие без звонка в по моему мнению бесполезно. Считаю что данный функционал (показ контактов) в приложении не сособо необходим для пользователей."
   ]
  },
  {
   "cell_type": "markdown",
   "metadata": {},
   "source": [
    "### Статистический анализ данных    \n",
    "Имеем 2 теории на проверку -   Конверсия в просмотр контактов между пользователя, совершающие действия tips_show и tips_click, другие — только tips_show - различается  (H0 - статистических различий - нет, H1 - статистические различия присутствуют)    \n",
    "и Конверсия в просмотр контактов между пользователя, с источником  yandex и пользователями, с источником (H0 - статистических различий - нет, H1 - статистические различия присутствуют)  \n",
    "\n",
    "Перед статистического анализа енобходимо выделить пользователей   \n",
    "а) Пользователи совершающие действия tips_show и tips_click  \n",
    "б) Пользователи совершающие только tips_show  \n",
    "и  \n",
    "а2) Пользователи пришедшие с источника Яндекс  \n",
    "б2) Пользователи пришедшие с источника Google  "
   ]
  },
  {
   "cell_type": "code",
   "execution_count": 28,
   "metadata": {},
   "outputs": [],
   "source": [
    "tips_show = 'tips_show'\n",
    "tips_click = 'tips_click'\n",
    "data_for_test = data.query('(event_name == @tips_show) or (event_name == @tips_click)')"
   ]
  },
  {
   "cell_type": "code",
   "execution_count": 29,
   "metadata": {},
   "outputs": [
    {
     "data": {
      "text/plain": [
       "1    2529\n",
       "2     297\n",
       "Name: event_name, dtype: int64"
      ]
     },
     "execution_count": 29,
     "metadata": {},
     "output_type": "execute_result"
    }
   ],
   "source": [
    "group_for_test = data_for_test.groupby('user_id').agg({'event_name' : 'count','event_name':pd.Series.nunique}).reset_index()\n",
    "group_for_test['event_name'].value_counts()"
   ]
  },
  {
   "cell_type": "markdown",
   "metadata": {},
   "source": [
    "Нажать на рекомендованное сообщение не увидев его - считаю не возможным, поэтому пользователи с коэф 2 - выполняли хоть раз оба этих действия. Если 1 только tips_show"
   ]
  },
  {
   "cell_type": "code",
   "execution_count": 30,
   "metadata": {},
   "outputs": [
    {
     "data": {
      "text/plain": [
       "2529"
      ]
     },
     "execution_count": 30,
     "metadata": {},
     "output_type": "execute_result"
    }
   ],
   "source": [
    "user_list_1_move  = group_for_test.loc[group_for_test['event_name'] == 1, 'user_id'].to_list()\n",
    "len(user_list_1_move)"
   ]
  },
  {
   "cell_type": "code",
   "execution_count": 31,
   "metadata": {},
   "outputs": [
    {
     "data": {
      "text/plain": [
       "297"
      ]
     },
     "execution_count": 31,
     "metadata": {},
     "output_type": "execute_result"
    }
   ],
   "source": [
    "user_list_2_move  = group_for_test.loc[group_for_test['event_name'] == 2, 'user_id'].to_list()\n",
    "len(user_list_2_move)"
   ]
  },
  {
   "cell_type": "code",
   "execution_count": 32,
   "metadata": {},
   "outputs": [],
   "source": [
    "#data_show =  data.query('user_id in @user_list_contacts')\n",
    "data_1_move = data.query('user_id in @user_list_1_move')\n",
    "data_2_move = data.query('user_id in @user_list_2_move')"
   ]
  },
  {
   "cell_type": "code",
   "execution_count": 33,
   "metadata": {},
   "outputs": [],
   "source": [
    "#data_1_move = data_1_move.groupby('event_name')['user_id'].count()"
   ]
  },
  {
   "cell_type": "code",
   "execution_count": 34,
   "metadata": {},
   "outputs": [
    {
     "data": {
      "text/html": [
       "<div>\n",
       "<style scoped>\n",
       "    .dataframe tbody tr th:only-of-type {\n",
       "        vertical-align: middle;\n",
       "    }\n",
       "\n",
       "    .dataframe tbody tr th {\n",
       "        vertical-align: top;\n",
       "    }\n",
       "\n",
       "    .dataframe thead th {\n",
       "        text-align: right;\n",
       "    }\n",
       "</style>\n",
       "<table border=\"1\" class=\"dataframe\">\n",
       "  <thead>\n",
       "    <tr style=\"text-align: right;\">\n",
       "      <th></th>\n",
       "      <th>event_name</th>\n",
       "      <th>user_id</th>\n",
       "    </tr>\n",
       "  </thead>\n",
       "  <tbody>\n",
       "    <tr>\n",
       "      <th>0</th>\n",
       "      <td>advert_open</td>\n",
       "      <td>4504</td>\n",
       "    </tr>\n",
       "    <tr>\n",
       "      <th>1</th>\n",
       "      <td>contacts_call</td>\n",
       "      <td>1</td>\n",
       "    </tr>\n",
       "    <tr>\n",
       "      <th>2</th>\n",
       "      <td>favorites_add</td>\n",
       "      <td>460</td>\n",
       "    </tr>\n",
       "    <tr>\n",
       "      <th>3</th>\n",
       "      <td>map</td>\n",
       "      <td>3058</td>\n",
       "    </tr>\n",
       "    <tr>\n",
       "      <th>4</th>\n",
       "      <td>photos_show</td>\n",
       "      <td>338</td>\n",
       "    </tr>\n",
       "    <tr>\n",
       "      <th>5</th>\n",
       "      <td>search</td>\n",
       "      <td>2781</td>\n",
       "    </tr>\n",
       "    <tr>\n",
       "      <th>6</th>\n",
       "      <td>show_contacts</td>\n",
       "      <td>2020</td>\n",
       "    </tr>\n",
       "    <tr>\n",
       "      <th>7</th>\n",
       "      <td>tips_click</td>\n",
       "      <td>113</td>\n",
       "    </tr>\n",
       "    <tr>\n",
       "      <th>8</th>\n",
       "      <td>tips_show</td>\n",
       "      <td>31085</td>\n",
       "    </tr>\n",
       "  </tbody>\n",
       "</table>\n",
       "</div>"
      ],
      "text/plain": [
       "      event_name  user_id\n",
       "0    advert_open     4504\n",
       "1  contacts_call        1\n",
       "2  favorites_add      460\n",
       "3            map     3058\n",
       "4    photos_show      338\n",
       "5         search     2781\n",
       "6  show_contacts     2020\n",
       "7     tips_click      113\n",
       "8      tips_show    31085"
      ]
     },
     "execution_count": 34,
     "metadata": {},
     "output_type": "execute_result"
    }
   ],
   "source": [
    "#data_1_move.columns = [['event_name','try_count_1']]\n",
    "#data_1_move.columns = ['try_count_1']\n",
    "#data_1_move\n",
    "data_1_move_pp = (data_1_move\n",
    "               .groupby(['event_name']).agg({'user_id': 'count'})\n",
    "               .reset_index()\n",
    "              )\n",
    "data_1_move_pp"
   ]
  },
  {
   "cell_type": "code",
   "execution_count": 35,
   "metadata": {},
   "outputs": [
    {
     "data": {
      "text/html": [
       "<div>\n",
       "<style scoped>\n",
       "    .dataframe tbody tr th:only-of-type {\n",
       "        vertical-align: middle;\n",
       "    }\n",
       "\n",
       "    .dataframe tbody tr th {\n",
       "        vertical-align: top;\n",
       "    }\n",
       "\n",
       "    .dataframe thead th {\n",
       "        text-align: right;\n",
       "    }\n",
       "</style>\n",
       "<table border=\"1\" class=\"dataframe\">\n",
       "  <thead>\n",
       "    <tr style=\"text-align: right;\">\n",
       "      <th></th>\n",
       "      <th>event_name</th>\n",
       "      <th>user_id</th>\n",
       "    </tr>\n",
       "  </thead>\n",
       "  <tbody>\n",
       "    <tr>\n",
       "      <th>0</th>\n",
       "      <td>advert_open</td>\n",
       "      <td>615</td>\n",
       "    </tr>\n",
       "    <tr>\n",
       "      <th>1</th>\n",
       "      <td>favorites_add</td>\n",
       "      <td>155</td>\n",
       "    </tr>\n",
       "    <tr>\n",
       "      <th>2</th>\n",
       "      <td>map</td>\n",
       "      <td>651</td>\n",
       "    </tr>\n",
       "    <tr>\n",
       "      <th>3</th>\n",
       "      <td>photos_show</td>\n",
       "      <td>13</td>\n",
       "    </tr>\n",
       "    <tr>\n",
       "      <th>4</th>\n",
       "      <td>search</td>\n",
       "      <td>319</td>\n",
       "    </tr>\n",
       "    <tr>\n",
       "      <th>5</th>\n",
       "      <td>show_contacts</td>\n",
       "      <td>838</td>\n",
       "    </tr>\n",
       "    <tr>\n",
       "      <th>6</th>\n",
       "      <td>tips_click</td>\n",
       "      <td>701</td>\n",
       "    </tr>\n",
       "    <tr>\n",
       "      <th>7</th>\n",
       "      <td>tips_show</td>\n",
       "      <td>8970</td>\n",
       "    </tr>\n",
       "  </tbody>\n",
       "</table>\n",
       "</div>"
      ],
      "text/plain": [
       "      event_name  user_id\n",
       "0    advert_open      615\n",
       "1  favorites_add      155\n",
       "2            map      651\n",
       "3    photos_show       13\n",
       "4         search      319\n",
       "5  show_contacts      838\n",
       "6     tips_click      701\n",
       "7      tips_show     8970"
      ]
     },
     "execution_count": 35,
     "metadata": {},
     "output_type": "execute_result"
    }
   ],
   "source": [
    "#data_2_move = data_2_move.groupby('event_name')['user_id'].count()\n",
    "#data_2_move.columns = [['event_name','try_count_2']]\n",
    "#data_2_move.columns = ['try_count_2']\n",
    "#data_2_move\n",
    "data_2_move_pp = (data_2_move\n",
    "               .groupby(['event_name']).agg({'user_id': 'count'})\n",
    "               .reset_index()\n",
    "                 )\n",
    "data_2_move_pp"
   ]
  },
  {
   "cell_type": "code",
   "execution_count": 36,
   "metadata": {},
   "outputs": [
    {
     "name": "stdout",
     "output_type": "stream",
     "text": [
      "p-значение:  0.0\n",
      "Отвергаем нулевую гипотезу: между долями есть значимая разница\n"
     ]
    }
   ],
   "source": [
    "alpha = .05\n",
    "#successes = np.array([data_1_move_pp['user_id'][6], data_1_move_pp['user_id'][5]])\n",
    "successes =np.array( [2020, 838])\n",
    "trials = np.array([2529, 297]) #суммарное количество пользователей в каждой контрольной группе\n",
    "p1 = successes[0]/trials[0]\n",
    "p2 = successes[1]/trials[1]\n",
    "p_combined = (successes[0] + successes[1]) / (trials[0] + trials[1])\n",
    "difference = p1 - p2\n",
    "z_value = difference / cmath.sqrt(p_combined * (1 - p_combined) * (1/trials[0] + 1/trials[1]))\n",
    "distr = st.norm(0, 1)\n",
    "p_value = (1 - distr.cdf(abs(z_value))) * 2\n",
    "print('p-значение: ', p_value)\n",
    "\n",
    "if (p_value < alpha):\n",
    "    print(\"Отвергаем нулевую гипотезу: между долями есть значимая разница\")\n",
    "else:\n",
    "    print(\"Не получилось отвергнуть нулевую гипотезу, нет оснований считать доли разными\")"
   ]
  },
  {
   "cell_type": "markdown",
   "metadata": {},
   "source": [
    "Получаем, что статистическиое различия между группами  пользователей, совершающие действия tips_show и tips_click, другие — только tips_show имею присутствуют(конверсия в просмотры у этих групп различается)"
   ]
  },
  {
   "cell_type": "code",
   "execution_count": 37,
   "metadata": {},
   "outputs": [
    {
     "data": {
      "text/html": [
       "<div>\n",
       "<style scoped>\n",
       "    .dataframe tbody tr th:only-of-type {\n",
       "        vertical-align: middle;\n",
       "    }\n",
       "\n",
       "    .dataframe tbody tr th {\n",
       "        vertical-align: top;\n",
       "    }\n",
       "\n",
       "    .dataframe thead th {\n",
       "        text-align: right;\n",
       "    }\n",
       "</style>\n",
       "<table border=\"1\" class=\"dataframe\">\n",
       "  <thead>\n",
       "    <tr style=\"text-align: right;\">\n",
       "      <th></th>\n",
       "      <th>source</th>\n",
       "      <th>total_users</th>\n",
       "    </tr>\n",
       "  </thead>\n",
       "  <tbody>\n",
       "    <tr>\n",
       "      <th>0</th>\n",
       "      <td>google</td>\n",
       "      <td>1129</td>\n",
       "    </tr>\n",
       "    <tr>\n",
       "      <th>1</th>\n",
       "      <td>other</td>\n",
       "      <td>1230</td>\n",
       "    </tr>\n",
       "    <tr>\n",
       "      <th>2</th>\n",
       "      <td>yandex</td>\n",
       "      <td>1934</td>\n",
       "    </tr>\n",
       "  </tbody>\n",
       "</table>\n",
       "</div>"
      ],
      "text/plain": [
       "   source  total_users\n",
       "0  google         1129\n",
       "1   other         1230\n",
       "2  yandex         1934"
      ]
     },
     "execution_count": 37,
     "metadata": {},
     "output_type": "execute_result"
    }
   ],
   "source": [
    "# сформируем таблицу с общим количеством пользователей по источникам\n",
    "total_users = sources.groupby('source', as_index=False).count().rename(columns={'user_id':'total_users'})\n",
    "total_users"
   ]
  },
  {
   "cell_type": "code",
   "execution_count": 38,
   "metadata": {},
   "outputs": [
    {
     "data": {
      "text/html": [
       "<div>\n",
       "<style scoped>\n",
       "    .dataframe tbody tr th:only-of-type {\n",
       "        vertical-align: middle;\n",
       "    }\n",
       "\n",
       "    .dataframe tbody tr th {\n",
       "        vertical-align: top;\n",
       "    }\n",
       "\n",
       "    .dataframe thead th {\n",
       "        text-align: right;\n",
       "    }\n",
       "</style>\n",
       "<table border=\"1\" class=\"dataframe\">\n",
       "  <thead>\n",
       "    <tr style=\"text-align: right;\">\n",
       "      <th></th>\n",
       "      <th>source</th>\n",
       "      <th>goal_users</th>\n",
       "      <th>total_users</th>\n",
       "    </tr>\n",
       "  </thead>\n",
       "  <tbody>\n",
       "    <tr>\n",
       "      <th>0</th>\n",
       "      <td>google</td>\n",
       "      <td>275</td>\n",
       "      <td>1129</td>\n",
       "    </tr>\n",
       "    <tr>\n",
       "      <th>1</th>\n",
       "      <td>other</td>\n",
       "      <td>228</td>\n",
       "      <td>1230</td>\n",
       "    </tr>\n",
       "    <tr>\n",
       "      <th>2</th>\n",
       "      <td>yandex</td>\n",
       "      <td>478</td>\n",
       "      <td>1934</td>\n",
       "    </tr>\n",
       "  </tbody>\n",
       "</table>\n",
       "</div>"
      ],
      "text/plain": [
       "   source  goal_users  total_users\n",
       "0  google         275         1129\n",
       "1   other         228         1230\n",
       "2  yandex         478         1934"
      ]
     },
     "execution_count": 38,
     "metadata": {},
     "output_type": "execute_result"
    }
   ],
   "source": [
    "goal_users = data.query('event_name==\"show_contacts\"').groupby(['source'], as_index=False).agg({'user_id':'nunique'}).rename(columns={'user_id':'goal_users'})\n",
    "conversion_users = pd.merge(goal_users, total_users, on='source')\n",
    "conversion_users"
   ]
  },
  {
   "cell_type": "code",
   "execution_count": 39,
   "metadata": {},
   "outputs": [
    {
     "name": "stdout",
     "output_type": "stream",
     "text": [
      "z_value = -0.2218487822311678\n",
      "Не получилось отвергнуть нулевую гипотезу, нет оснований считать доли разными\n"
     ]
    }
   ],
   "source": [
    "purchases = np.array([275, 478])\n",
    "leads = np.array([1129, 1934])\n",
    "\n",
    "p1 = purchases[0] / leads[0]\n",
    "p2 = purchases[1] / leads[1]\n",
    "p_combined = (purchases[0] + purchases[1]) / (leads[0] + leads[1])\n",
    "z_value = (p1 - p2) / mth.sqrt(p_combined * (1 - p_combined) * (1/leads[0] + 1/leads[1]))\n",
    "distr = st.norm(0, 1)\n",
    "p_value = (1 - distr.cdf(abs(z_value))) * 2\n",
    "print('z_value =', z_value)\n",
    "\n",
    "if (p_value < alpha):\n",
    "    print(\"Отвергаем нулевую гипотезу: между долями есть значимая разница\")\n",
    "else:\n",
    "    print(\"Не получилось отвергнуть нулевую гипотезу, нет оснований считать доли разными\")"
   ]
  },
  {
   "cell_type": "markdown",
   "metadata": {},
   "source": [
    "### Вывод\n",
    "На основе проведенного статистического анализа можно сделать выводы :  \n",
    "Разница между конверсией  между группами пользователей, совершающие действия tips_show и tips_click, другие — только tips_show имею присутствует    \n",
    "Разницы между конверсией в просмотр контактов между пользователями, пришедшими из yandex, и пользователями, пришедшими из google, нет;  "
   ]
  },
  {
   "cell_type": "markdown",
   "metadata": {},
   "source": [
    "# Вывод и рекомендации   \n",
    "Всего приложением воспользовались 4293 пользователей  \n",
    "Конверсия пользователей в просмотр контактов составляет 23%  \n",
    "\n",
    "Явных отличительных особенностей в действиях 2 групп - просматривающих и нет контакты пользователей не было обнаружено.  Топ действий для них примерно одинаковый. Не смотря на то, что в группе пользователей которые просматривают контакты целевая активность занимает 2 место по количеству,  последующий звонок совершается только в 12 % случаев, а само целевое действие без звонка бесполезно.   \n",
    "#### В процессе работыбыли проверены следующие гипотезы:  \n",
    "\n",
    "1) Конверсия в просмотр контактов между пользователя, совершающие действия tips_show и tips_click, другие — только tips_show - не различается       \n",
    "2) Конверсия в просмотр контактов между пользователя, с источником  yandex и пользователями, с источником Google не различается  \n",
    "Первая гипотеза была отвергнутпа -следовательно разница в конверсии этих двух групп пользователей присутствует   \n",
    "Вторая гипотеза не была отвергнута - нет оснований предпологать, что различие между конверсий этих двух групп имеется  \n",
    "\n",
    "## Рекомендации   \n",
    "Считаю что нет явной необходимости в возможном действии - показ контактов, последующих звонков по ним практически не следует.  \n",
    "Предлагаю как вариант оставлять номер открытым. И провести дополнительный А/В тест на целесообразность этого действия"
   ]
  },
  {
   "cell_type": "markdown",
   "metadata": {},
   "source": [
    "Ссылка на презентацию https://yadi.sk/i/vv3pc8z4FqGZIQ"
   ]
  },
  {
   "cell_type": "code",
   "execution_count": null,
   "metadata": {},
   "outputs": [],
   "source": []
  }
 ],
 "metadata": {
  "kernelspec": {
   "display_name": "Python 3",
   "language": "python",
   "name": "python3"
  },
  "language_info": {
   "codemirror_mode": {
    "name": "ipython",
    "version": 3
   },
   "file_extension": ".py",
   "mimetype": "text/x-python",
   "name": "python",
   "nbconvert_exporter": "python",
   "pygments_lexer": "ipython3",
   "version": "3.7.6"
  }
 },
 "nbformat": 4,
 "nbformat_minor": 4
}
