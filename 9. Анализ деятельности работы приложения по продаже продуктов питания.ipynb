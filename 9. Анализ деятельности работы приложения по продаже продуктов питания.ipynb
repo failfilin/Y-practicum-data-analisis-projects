{
 "cells": [
  {
   "cell_type": "markdown",
   "metadata": {},
   "source": [
    "# Шрифтоманы ли наши пользователи?\n",
    "Для части пользователей мы изменили шрифты  в приложении, для спокойства менеджеров и был задуман данный проект\n",
    "\n",
    "Целью проекта является изучение поведения пользователей в приложении по реализации продуктов питания.  \n",
    "Для исследования имеем фрем со следующими данными :  \n",
    "EventName — название события;  \n",
    "DeviceIDHash — уникальный идентификатор пользователя;  \n",
    "EventTimestamp — время события;  \n",
    "ExpId — номер эксперимента: 246 и 247 — контрольные группы, а 248 — экспериментальная;\n",
    "Будут выполнены следующие шаги:  \n",
    "1. Проверим входящие данные на пропуски и дубли, и добавим два столца с датой и временем и датой.  \n",
    "2. Найдем общее количество событий и пользователей в логе. Расчитаем среднее количество событий на пользователя.  \n",
    "3. Рассмотрим данными за какой период мы распологаем. Определим дату с которой даннные можно считать полными и в соответствии с этим отбросим более старые.  \n",
    "4. Проверим фрейм на наличие пользователей из каждой экспериментальной группы.  \n",
    "5. Рассмотрим имеющиеся в логах виды событий и найдем количество пользователей, которые совершали их. Подсчитаем долю пользователей которые хоть раз совершали событие.  \n",
    "6. Построим предположение о последовательности событий, отбросим те из них, которые не укладываются в цепочку.  \n",
    "7. Подсчитаем процент пользователей перешедших на следующий этап воронки. Определим на каком шаге отпадает наибольшее число пользователей и долю пользователей которые проходят всю цепочку событий.  \n",
    "8. Найдем количество пользователей в каждой экспериментальной группе и проверим корректность груп для А/А экспериментов при помощи статистических критериев.  \n",
    "9. Найдем самое популярное событие и посчитаем число пользователей в каждой контрольной группе. Проверим будет ли отличие между группами статистически достоверными.  \n",
    "10. Сделаем аналогичные с пунктом 9  действия для группы с измененным шрифтом.  \n"
   ]
  },
  {
   "cell_type": "markdown",
   "metadata": {},
   "source": [
    "## Предобработка данных"
   ]
  },
  {
   "cell_type": "markdown",
   "metadata": {},
   "source": [
    "#### 1. Проверим входящие данные на пропуски и дубли, и добавим два столца с датой и временем и датой"
   ]
  },
  {
   "cell_type": "code",
   "execution_count": 1,
   "metadata": {},
   "outputs": [],
   "source": [
    "import pandas as pd \n",
    "import seaborn as sns\n",
    "from datetime import datetime\n",
    "import matplotlib.pyplot as plt\n",
    "import numpy as np\n",
    "import plotly\n",
    "import plotly.graph_objs as go\n",
    "import plotly.express as px\n",
    "from plotly.subplots import make_subplots\n",
    "from scipy import stats as st\n",
    "import numpy as np\n",
    "import math as mth\n",
    "import cmath"
   ]
  },
  {
   "cell_type": "code",
   "execution_count": 2,
   "metadata": {},
   "outputs": [],
   "source": [
    "df = pd.read_csv('/datasets/logs_exp.csv', sep = '\\t' )"
   ]
  },
  {
   "cell_type": "code",
   "execution_count": 3,
   "metadata": {},
   "outputs": [],
   "source": [
    "df.columns = ['event', 'id', 'eventdate', 'expid']\n",
    "df['date_time'] = pd.to_datetime(df['eventdate'], unit = 's')\n"
   ]
  },
  {
   "cell_type": "code",
   "execution_count": 4,
   "metadata": {},
   "outputs": [
    {
     "name": "stdout",
     "output_type": "stream",
     "text": [
      "<class 'pandas.core.frame.DataFrame'>\n",
      "RangeIndex: 244126 entries, 0 to 244125\n",
      "Data columns (total 6 columns):\n",
      "event        244126 non-null object\n",
      "id           244126 non-null int64\n",
      "eventdate    244126 non-null int64\n",
      "expid        244126 non-null int64\n",
      "date_time    244126 non-null object\n",
      "date         244126 non-null datetime64[ns]\n",
      "dtypes: datetime64[ns](1), int64(3), object(2)\n",
      "memory usage: 11.2+ MB\n"
     ]
    }
   ],
   "source": [
    "df['date'] = df['date_time'].dt.date\n",
    "#df['date_time'] = df['date_time'].astype('datetime64[h]')\n",
    "df['date']= pd.to_datetime(df['date'])\n",
    "df['date_time'] = df['date_time'].apply(lambda t: t.strftime('%Y-%m-%d %H'))\n",
    "df.info()"
   ]
  },
  {
   "cell_type": "code",
   "execution_count": 5,
   "metadata": {},
   "outputs": [],
   "source": [
    "df = df.drop_duplicates().reset_index(drop= True)"
   ]
  },
  {
   "cell_type": "markdown",
   "metadata": {},
   "source": [
    "Заменили названия колонок на более удобные, доавили столбцы с датой и временем и просто датой. Удалили дубликаты из фрейма (около 400 строк) "
   ]
  },
  {
   "cell_type": "markdown",
   "metadata": {},
   "source": [
    "##### 2. Найдем общее количество событий и пользователей в логе. Расчитаем среднее количество событий на пользователя "
   ]
  },
  {
   "cell_type": "code",
   "execution_count": 6,
   "metadata": {},
   "outputs": [
    {
     "name": "stdout",
     "output_type": "stream",
     "text": [
      "Количество событий =  243713\n",
      "Количество уникальных пользователей =  7551\n",
      "Среднее количестов событий на 1 пользователя =  32.27559263673685\n"
     ]
    }
   ],
   "source": [
    "logs_event = df['event'].count()\n",
    "logs_users = df.agg({'id' : 'count','id':pd.Series.nunique })\n",
    "print ('Количество событий = ', logs_event)\n",
    "print('Количество уникальных пользователей = ', logs_users['id'] )\n",
    "print('Среднее количестов событий на 1 пользователя = ', logs_event/logs_users['id'])"
   ]
  },
  {
   "cell_type": "markdown",
   "metadata": {},
   "source": [
    "Построим гистограмму по дате ти времени"
   ]
  },
  {
   "cell_type": "code",
   "execution_count": 7,
   "metadata": {},
   "outputs": [
    {
     "name": "stdout",
     "output_type": "stream",
     "text": [
      "<class 'pandas.core.frame.DataFrame'>\n",
      "RangeIndex: 284 entries, 0 to 283\n",
      "Data columns (total 2 columns):\n",
      "date_time    284 non-null datetime64[ns]\n",
      "id           284 non-null int64\n",
      "dtypes: datetime64[ns](1), int64(1)\n",
      "memory usage: 4.6 KB\n"
     ]
    }
   ],
   "source": [
    "logs_dates = df.pivot_table(index='date_time', values='id', aggfunc='count').reset_index()\n",
    "logs_dates['date_time']= pd.to_datetime(logs_dates['date_time'])\n",
    "logs_dates.info()"
   ]
  },
  {
   "cell_type": "code",
   "execution_count": 36,
   "metadata": {
    "scrolled": false
   },
   "outputs": [
    {
     "data": {
      "image/png": "[encoded data removed]",
      "text/plain": [
       "<Figure size 288x864 with 1 Axes>"
      ]
     },
     "metadata": {
      "needs_background": "light"
     },
     "output_type": "display_data"
    }
   ],
   "source": [
    "fig, ax = plt.subplots( figsize = (4,12) )\n",
    "x = logs_dates['date_time']\n",
    "y = logs_dates['id']\n",
    "ax.bar(x,y)\n",
    "plt.xticks(rotation = 45)\n",
    "plt.xlabel('Дата и время')\n",
    "plt.ylabel('Количество событий')\n",
    "plt.title('Количество событий по дате и часу')\n",
    "plt.show()"
   ]
  },
  {
   "cell_type": "markdown",
   "metadata": {},
   "source": [
    "Резкое увеличение количества событий наблюдается 01.08.2019. Считаю что именно с этго момента \"доехали старые данные\" и имеем полные данные. Уберем данные до этого отрезка времени из нашего фрейма. Посмотрим сколько событий и пользователей при этом мы потеряли."
   ]
  },
  {
   "cell_type": "code",
   "execution_count": 9,
   "metadata": {},
   "outputs": [
    {
     "name": "stdout",
     "output_type": "stream",
     "text": [
      "Количество потерянных событий =  2826\n",
      "Количество потерынных пользователей =  id    17\n",
      "dtype: int64\n"
     ]
    }
   ],
   "source": [
    "df_new = df[df['date'] >= \"2019-08-01\"]\n",
    "logs_event_new = df_new['event'].count()\n",
    "logs_users_new = df_new.agg({'id' : 'count','id':pd.Series.nunique })\n",
    "print('Количество потерянных событий = ', logs_event - logs_event_new)\n",
    "print('Количество потерынных пользователей = ', logs_users - logs_users_new)\n"
   ]
  },
  {
   "cell_type": "code",
   "execution_count": 10,
   "metadata": {},
   "outputs": [
    {
     "data": {
      "text/html": [
       "<div>\n",
       "<style scoped>\n",
       "    .dataframe tbody tr th:only-of-type {\n",
       "        vertical-align: middle;\n",
       "    }\n",
       "\n",
       "    .dataframe tbody tr th {\n",
       "        vertical-align: top;\n",
       "    }\n",
       "\n",
       "    .dataframe thead th {\n",
       "        text-align: right;\n",
       "    }\n",
       "</style>\n",
       "<table border=\"1\" class=\"dataframe\">\n",
       "  <thead>\n",
       "    <tr style=\"text-align: right;\">\n",
       "      <th></th>\n",
       "      <th>event</th>\n",
       "      <th>id</th>\n",
       "      <th>eventdate</th>\n",
       "      <th>expid</th>\n",
       "      <th>date_time</th>\n",
       "      <th>date</th>\n",
       "    </tr>\n",
       "  </thead>\n",
       "  <tbody>\n",
       "    <tr>\n",
       "      <td>2826</td>\n",
       "      <td>Tutorial</td>\n",
       "      <td>3737462046622621720</td>\n",
       "      <td>1564618048</td>\n",
       "      <td>246</td>\n",
       "      <td>2019-08-01 00</td>\n",
       "      <td>2019-08-01</td>\n",
       "    </tr>\n",
       "    <tr>\n",
       "      <td>2827</td>\n",
       "      <td>MainScreenAppear</td>\n",
       "      <td>3737462046622621720</td>\n",
       "      <td>1564618080</td>\n",
       "      <td>246</td>\n",
       "      <td>2019-08-01 00</td>\n",
       "      <td>2019-08-01</td>\n",
       "    </tr>\n",
       "    <tr>\n",
       "      <td>2828</td>\n",
       "      <td>MainScreenAppear</td>\n",
       "      <td>3737462046622621720</td>\n",
       "      <td>1564618135</td>\n",
       "      <td>246</td>\n",
       "      <td>2019-08-01 00</td>\n",
       "      <td>2019-08-01</td>\n",
       "    </tr>\n",
       "    <tr>\n",
       "      <td>2829</td>\n",
       "      <td>OffersScreenAppear</td>\n",
       "      <td>3737462046622621720</td>\n",
       "      <td>1564618138</td>\n",
       "      <td>246</td>\n",
       "      <td>2019-08-01 00</td>\n",
       "      <td>2019-08-01</td>\n",
       "    </tr>\n",
       "    <tr>\n",
       "      <td>2830</td>\n",
       "      <td>MainScreenAppear</td>\n",
       "      <td>1433840883824088890</td>\n",
       "      <td>1564618139</td>\n",
       "      <td>247</td>\n",
       "      <td>2019-08-01 00</td>\n",
       "      <td>2019-08-01</td>\n",
       "    </tr>\n",
       "    <tr>\n",
       "      <td>...</td>\n",
       "      <td>...</td>\n",
       "      <td>...</td>\n",
       "      <td>...</td>\n",
       "      <td>...</td>\n",
       "      <td>...</td>\n",
       "      <td>...</td>\n",
       "    </tr>\n",
       "    <tr>\n",
       "      <td>243708</td>\n",
       "      <td>MainScreenAppear</td>\n",
       "      <td>4599628364049201812</td>\n",
       "      <td>1565212345</td>\n",
       "      <td>247</td>\n",
       "      <td>2019-08-07 21</td>\n",
       "      <td>2019-08-07</td>\n",
       "    </tr>\n",
       "    <tr>\n",
       "      <td>243709</td>\n",
       "      <td>MainScreenAppear</td>\n",
       "      <td>5849806612437486590</td>\n",
       "      <td>1565212439</td>\n",
       "      <td>246</td>\n",
       "      <td>2019-08-07 21</td>\n",
       "      <td>2019-08-07</td>\n",
       "    </tr>\n",
       "    <tr>\n",
       "      <td>243710</td>\n",
       "      <td>MainScreenAppear</td>\n",
       "      <td>5746969938801999050</td>\n",
       "      <td>1565212483</td>\n",
       "      <td>246</td>\n",
       "      <td>2019-08-07 21</td>\n",
       "      <td>2019-08-07</td>\n",
       "    </tr>\n",
       "    <tr>\n",
       "      <td>243711</td>\n",
       "      <td>MainScreenAppear</td>\n",
       "      <td>5746969938801999050</td>\n",
       "      <td>1565212498</td>\n",
       "      <td>246</td>\n",
       "      <td>2019-08-07 21</td>\n",
       "      <td>2019-08-07</td>\n",
       "    </tr>\n",
       "    <tr>\n",
       "      <td>243712</td>\n",
       "      <td>OffersScreenAppear</td>\n",
       "      <td>5746969938801999050</td>\n",
       "      <td>1565212517</td>\n",
       "      <td>246</td>\n",
       "      <td>2019-08-07 21</td>\n",
       "      <td>2019-08-07</td>\n",
       "    </tr>\n",
       "  </tbody>\n",
       "</table>\n",
       "<p>240887 rows × 6 columns</p>\n",
       "</div>"
      ],
      "text/plain": [
       "                     event                   id   eventdate  expid  \\\n",
       "2826              Tutorial  3737462046622621720  1564618048    246   \n",
       "2827      MainScreenAppear  3737462046622621720  1564618080    246   \n",
       "2828      MainScreenAppear  3737462046622621720  1564618135    246   \n",
       "2829    OffersScreenAppear  3737462046622621720  1564618138    246   \n",
       "2830      MainScreenAppear  1433840883824088890  1564618139    247   \n",
       "...                    ...                  ...         ...    ...   \n",
       "243708    MainScreenAppear  4599628364049201812  1565212345    247   \n",
       "243709    MainScreenAppear  5849806612437486590  1565212439    246   \n",
       "243710    MainScreenAppear  5746969938801999050  1565212483    246   \n",
       "243711    MainScreenAppear  5746969938801999050  1565212498    246   \n",
       "243712  OffersScreenAppear  5746969938801999050  1565212517    246   \n",
       "\n",
       "            date_time       date  \n",
       "2826    2019-08-01 00 2019-08-01  \n",
       "2827    2019-08-01 00 2019-08-01  \n",
       "2828    2019-08-01 00 2019-08-01  \n",
       "2829    2019-08-01 00 2019-08-01  \n",
       "2830    2019-08-01 00 2019-08-01  \n",
       "...               ...        ...  \n",
       "243708  2019-08-07 21 2019-08-07  \n",
       "243709  2019-08-07 21 2019-08-07  \n",
       "243710  2019-08-07 21 2019-08-07  \n",
       "243711  2019-08-07 21 2019-08-07  \n",
       "243712  2019-08-07 21 2019-08-07  \n",
       "\n",
       "[240887 rows x 6 columns]"
      ]
     },
     "execution_count": 10,
     "metadata": {},
     "output_type": "execute_result"
    }
   ],
   "source": [
    "df_new"
   ]
  },
  {
   "cell_type": "markdown",
   "metadata": {},
   "source": [
    "Потеряли ничтожно малое количество событий и пользователей относительно изначальных данных  (3 тысячи от 243 тысяч и 17 от 7551 ) не считаю эти потери критичными."
   ]
  },
  {
   "cell_type": "code",
   "execution_count": 11,
   "metadata": {},
   "outputs": [
    {
     "data": {
      "text/html": [
       "<div>\n",
       "<style scoped>\n",
       "    .dataframe tbody tr th:only-of-type {\n",
       "        vertical-align: middle;\n",
       "    }\n",
       "\n",
       "    .dataframe tbody tr th {\n",
       "        vertical-align: top;\n",
       "    }\n",
       "\n",
       "    .dataframe thead th {\n",
       "        text-align: right;\n",
       "    }\n",
       "</style>\n",
       "<table border=\"1\" class=\"dataframe\">\n",
       "  <thead>\n",
       "    <tr style=\"text-align: right;\">\n",
       "      <th></th>\n",
       "      <th>id</th>\n",
       "    </tr>\n",
       "    <tr>\n",
       "      <th>expid</th>\n",
       "      <th></th>\n",
       "    </tr>\n",
       "  </thead>\n",
       "  <tbody>\n",
       "    <tr>\n",
       "      <td>246</td>\n",
       "      <td>2484</td>\n",
       "    </tr>\n",
       "    <tr>\n",
       "      <td>247</td>\n",
       "      <td>2513</td>\n",
       "    </tr>\n",
       "    <tr>\n",
       "      <td>248</td>\n",
       "      <td>2537</td>\n",
       "    </tr>\n",
       "  </tbody>\n",
       "</table>\n",
       "</div>"
      ],
      "text/plain": [
       "         id\n",
       "expid      \n",
       "246    2484\n",
       "247    2513\n",
       "248    2537"
      ]
     },
     "execution_count": 11,
     "metadata": {},
     "output_type": "execute_result"
    }
   ],
   "source": [
    "group_check = df_new.groupby('expid').agg({'id' : 'count','id':pd.Series.nunique})\n",
    "group_check"
   ]
  },
  {
   "cell_type": "markdown",
   "metadata": {},
   "source": [
    "В обновленных данных по прежнему присутствуют пользователи из всех 3 групп"
   ]
  },
  {
   "cell_type": "markdown",
   "metadata": {},
   "source": [
    "Рассмотрим имеющиеся в логах виды событий и найдем количество пользователей, которые совершали их. Подсчитаем долю пользователей которые хоть раз совершали событие."
   ]
  },
  {
   "cell_type": "markdown",
   "metadata": {},
   "source": [
    "Количество событий и количество уникальных пользователей совершаю щих это события"
   ]
  },
  {
   "cell_type": "code",
   "execution_count": 12,
   "metadata": {},
   "outputs": [
    {
     "data": {
      "text/html": [
       "<div>\n",
       "<style scoped>\n",
       "    .dataframe tbody tr th:only-of-type {\n",
       "        vertical-align: middle;\n",
       "    }\n",
       "\n",
       "    .dataframe tbody tr th {\n",
       "        vertical-align: top;\n",
       "    }\n",
       "\n",
       "    .dataframe thead th {\n",
       "        text-align: right;\n",
       "    }\n",
       "</style>\n",
       "<table border=\"1\" class=\"dataframe\">\n",
       "  <thead>\n",
       "    <tr style=\"text-align: right;\">\n",
       "      <th></th>\n",
       "      <th>event</th>\n",
       "      <th>id_count</th>\n",
       "      <th>event_count</th>\n",
       "      <th>frequency</th>\n",
       "    </tr>\n",
       "  </thead>\n",
       "  <tbody>\n",
       "    <tr>\n",
       "      <td>1</td>\n",
       "      <td>MainScreenAppear</td>\n",
       "      <td>7419</td>\n",
       "      <td>117328</td>\n",
       "      <td>15.814530</td>\n",
       "    </tr>\n",
       "    <tr>\n",
       "      <td>0</td>\n",
       "      <td>CartScreenAppear</td>\n",
       "      <td>3734</td>\n",
       "      <td>42303</td>\n",
       "      <td>11.329138</td>\n",
       "    </tr>\n",
       "    <tr>\n",
       "      <td>2</td>\n",
       "      <td>OffersScreenAppear</td>\n",
       "      <td>4593</td>\n",
       "      <td>46333</td>\n",
       "      <td>10.087742</td>\n",
       "    </tr>\n",
       "    <tr>\n",
       "      <td>3</td>\n",
       "      <td>PaymentScreenSuccessful</td>\n",
       "      <td>3539</td>\n",
       "      <td>33918</td>\n",
       "      <td>9.584063</td>\n",
       "    </tr>\n",
       "    <tr>\n",
       "      <td>4</td>\n",
       "      <td>Tutorial</td>\n",
       "      <td>840</td>\n",
       "      <td>1005</td>\n",
       "      <td>1.196429</td>\n",
       "    </tr>\n",
       "  </tbody>\n",
       "</table>\n",
       "</div>"
      ],
      "text/plain": [
       "                     event  id_count  event_count  frequency\n",
       "1         MainScreenAppear      7419       117328  15.814530\n",
       "0         CartScreenAppear      3734        42303  11.329138\n",
       "2       OffersScreenAppear      4593        46333  10.087742\n",
       "3  PaymentScreenSuccessful      3539        33918   9.584063\n",
       "4                 Tutorial       840         1005   1.196429"
      ]
     },
     "execution_count": 12,
     "metadata": {},
     "output_type": "execute_result"
    }
   ],
   "source": [
    "event_type = df_new.groupby('event').agg({'id': 'count', 'id':pd.Series.nunique, 'event':'count'})\n",
    "event_type.columns = ['id_count','event_count']\n",
    "event_type = event_type.reset_index()\n",
    "event_type['frequency'] = event_type['event_count'] / event_type['id_count']\n",
    "event_type = event_type.sort_values(by = 'frequency', ascending = False)\n",
    "event_type"
   ]
  },
  {
   "cell_type": "markdown",
   "metadata": {},
   "source": [
    "Имеем следующие этапы в наших логах и складываются ву следующую воронку событий :  \n",
    "1. MainScreenAppear - открытие главной страницы (самая часто посещаемая страница, что не странно)  \n",
    "2. OffersScreenAppear - открытие страницы с предложениями  \n",
    "3. CartScreenAppear - открытие страницы оплаты (или заполнений данных для оплаты)  \n",
    "4. PaymentScreenSuccessful\t - открытие страницы с успешным завершением оплаты \n",
    "\n",
    "\n",
    "Tutorial - обучение не попадает в продуктовую воронку (и честно говоря плохо понимаю чему в  таком приложении можно учить, но скорее всего не прав)"
   ]
  },
  {
   "cell_type": "code",
   "execution_count": 13,
   "metadata": {},
   "outputs": [
    {
     "name": "stdout",
     "output_type": "stream",
     "text": [
      "Количество уникальных пользователей в логах =  id    7534\n",
      "Name: id, dtype: int64\n"
     ]
    }
   ],
   "source": [
    "uid_count = df_new['id'].agg({'id': 'count', 'id':pd.Series.nunique})\n",
    "print ('Количество уникальных пользователей в логах = ',uid_count )"
   ]
  },
  {
   "cell_type": "code",
   "execution_count": 14,
   "metadata": {
    "scrolled": true
   },
   "outputs": [
    {
     "data": {
      "text/html": [
       "<div>\n",
       "<style scoped>\n",
       "    .dataframe tbody tr th:only-of-type {\n",
       "        vertical-align: middle;\n",
       "    }\n",
       "\n",
       "    .dataframe tbody tr th {\n",
       "        vertical-align: top;\n",
       "    }\n",
       "\n",
       "    .dataframe thead th {\n",
       "        text-align: right;\n",
       "    }\n",
       "</style>\n",
       "<table border=\"1\" class=\"dataframe\">\n",
       "  <thead>\n",
       "    <tr style=\"text-align: right;\">\n",
       "      <th></th>\n",
       "      <th>event</th>\n",
       "      <th>id_count</th>\n",
       "      <th>event_count</th>\n",
       "      <th>frequency</th>\n",
       "      <th>share %</th>\n",
       "    </tr>\n",
       "  </thead>\n",
       "  <tbody>\n",
       "    <tr>\n",
       "      <td>1</td>\n",
       "      <td>MainScreenAppear</td>\n",
       "      <td>7419</td>\n",
       "      <td>117328</td>\n",
       "      <td>15.814530</td>\n",
       "      <td>98.473586</td>\n",
       "    </tr>\n",
       "    <tr>\n",
       "      <td>2</td>\n",
       "      <td>OffersScreenAppear</td>\n",
       "      <td>4593</td>\n",
       "      <td>46333</td>\n",
       "      <td>10.087742</td>\n",
       "      <td>60.963632</td>\n",
       "    </tr>\n",
       "    <tr>\n",
       "      <td>0</td>\n",
       "      <td>CartScreenAppear</td>\n",
       "      <td>3734</td>\n",
       "      <td>42303</td>\n",
       "      <td>11.329138</td>\n",
       "      <td>49.561986</td>\n",
       "    </tr>\n",
       "    <tr>\n",
       "      <td>3</td>\n",
       "      <td>PaymentScreenSuccessful</td>\n",
       "      <td>3539</td>\n",
       "      <td>33918</td>\n",
       "      <td>9.584063</td>\n",
       "      <td>46.973719</td>\n",
       "    </tr>\n",
       "  </tbody>\n",
       "</table>\n",
       "</div>"
      ],
      "text/plain": [
       "                     event  id_count  event_count  frequency    share %\n",
       "1         MainScreenAppear      7419       117328  15.814530  98.473586\n",
       "2       OffersScreenAppear      4593        46333  10.087742  60.963632\n",
       "0         CartScreenAppear      3734        42303  11.329138  49.561986\n",
       "3  PaymentScreenSuccessful      3539        33918   9.584063  46.973719"
      ]
     },
     "execution_count": 14,
     "metadata": {},
     "output_type": "execute_result"
    }
   ],
   "source": [
    "event_type['share %'] = event_type['id_count'] / uid_count['id'] * 100\n",
    "event_type_full_circle = event_type[event_type['event'] != 'Tutorial']\n",
    "event_type_full_circle.sort_values(by = 'share %',ascending = False)"
   ]
  },
  {
   "cell_type": "markdown",
   "metadata": {},
   "source": [
    "В столбце  share посчитали долю пользователей с которыми происходило данное событие, сортировка по данному столбцу как раз дает нам нашу продуктовую воронку "
   ]
  },
  {
   "cell_type": "markdown",
   "metadata": {},
   "source": [
    "Подсчитаем процент пользователей перешедших на следующий этап воронки. Определим на каком шаге отпадает наибольшее число пользователей "
   ]
  },
  {
   "cell_type": "code",
   "execution_count": 15,
   "metadata": {},
   "outputs": [
    {
     "name": "stdout",
     "output_type": "stream",
     "text": [
      "7419\n",
      "4593\n",
      "3734\n",
      "3539\n"
     ]
    }
   ],
   "source": [
    "MainScreenAppear_user = event_type_full_circle.loc[1,'id_count']\n",
    "OffersScreenAppear_user = event_type_full_circle.loc[2,'id_count']\n",
    "CartScreenAppear_user  = event_type_full_circle.loc[0,'id_count'] \n",
    "PaymentScreenSuccessful_user = event_type_full_circle.loc[3,'id_count']     \n",
    "lost_main_offers = (MainScreenAppear_user -OffersScreenAppear_user) / MainScreenAppear_user\n",
    "lost_offers_cart = (OffersScreenAppear_user - CartScreenAppear_user) / OffersScreenAppear_user \n",
    "lost_cart_succes = (CartScreenAppear_user -PaymentScreenSuccessful_user) / CartScreenAppear_user\n",
    "print(MainScreenAppear_user)\n",
    "print(OffersScreenAppear_user)\n",
    "print(CartScreenAppear_user)\n",
    "print(PaymentScreenSuccessful_user)"
   ]
  },
  {
   "cell_type": "code",
   "execution_count": 16,
   "metadata": {},
   "outputs": [
    {
     "name": "stdout",
     "output_type": "stream",
     "text": [
      "Потери при переходе на экран с предложениями = 38%\n",
      "Потери при переходе на экран c внесением данных для оплаты =  19%\n",
      "Потери при переходе на экран успешной оплатой = 5%\n"
     ]
    }
   ],
   "source": [
    "print('Потери при переходе на экран с предложениями = {0:.0%}' .format(lost_main_offers) )\n",
    "print('Потери при переходе на экран c внесением данных для оплаты =  {0:.0%}' .format(lost_offers_cart)  )\n",
    "print('Потери при переходе на экран успешной оплатой = {0:.0%}' .format(lost_cart_succes))"
   ]
  },
  {
   "cell_type": "markdown",
   "metadata": {},
   "source": [
    "Самые большие потери в пользователях наблюдаются на этапе перехода с главного экрана на 'кран с предложениями (39%)"
   ]
  },
  {
   "cell_type": "code",
   "execution_count": 17,
   "metadata": {},
   "outputs": [
    {
     "name": "stdout",
     "output_type": "stream",
     "text": [
      "Доля пользователей которые прошли полный цикл = 48%\n"
     ]
    }
   ],
   "source": [
    "lust_stand_boys = PaymentScreenSuccessful_user / MainScreenAppear_user\n",
    "print('Доля пользователей которые прошли полный цикл = {0:.0%}' .format(lust_stand_boys))"
   ]
  },
  {
   "cell_type": "markdown",
   "metadata": {},
   "source": [
    "Найдем количество пользователей в каждой экспериментальной группе и проверим корректность груп для А/А экспериментов при помощи статистических критериев."
   ]
  },
  {
   "cell_type": "markdown",
   "metadata": {},
   "source": [
    "Количество пользователей в каждой группе мы посчитали ранее"
   ]
  },
  {
   "cell_type": "code",
   "execution_count": 18,
   "metadata": {},
   "outputs": [
    {
     "data": {
      "text/html": [
       "<div>\n",
       "<style scoped>\n",
       "    .dataframe tbody tr th:only-of-type {\n",
       "        vertical-align: middle;\n",
       "    }\n",
       "\n",
       "    .dataframe tbody tr th {\n",
       "        vertical-align: top;\n",
       "    }\n",
       "\n",
       "    .dataframe thead th {\n",
       "        text-align: right;\n",
       "    }\n",
       "</style>\n",
       "<table border=\"1\" class=\"dataframe\">\n",
       "  <thead>\n",
       "    <tr style=\"text-align: right;\">\n",
       "      <th></th>\n",
       "      <th>expid</th>\n",
       "      <th>id</th>\n",
       "    </tr>\n",
       "  </thead>\n",
       "  <tbody>\n",
       "    <tr>\n",
       "      <td>0</td>\n",
       "      <td>246</td>\n",
       "      <td>2484</td>\n",
       "    </tr>\n",
       "    <tr>\n",
       "      <td>1</td>\n",
       "      <td>247</td>\n",
       "      <td>2513</td>\n",
       "    </tr>\n",
       "    <tr>\n",
       "      <td>2</td>\n",
       "      <td>248</td>\n",
       "      <td>2537</td>\n",
       "    </tr>\n",
       "  </tbody>\n",
       "</table>\n",
       "</div>"
      ],
      "text/plain": [
       "   expid    id\n",
       "0    246  2484\n",
       "1    247  2513\n",
       "2    248  2537"
      ]
     },
     "execution_count": 18,
     "metadata": {},
     "output_type": "execute_result"
    }
   ],
   "source": [
    "group_check = group_check.reset_index()\n",
    "group_check"
   ]
  },
  {
   "cell_type": "code",
   "execution_count": 19,
   "metadata": {},
   "outputs": [
    {
     "name": "stderr",
     "output_type": "stream",
     "text": [
      "/opt/conda/lib/python3.7/site-packages/ipykernel_launcher.py:2: UserWarning:\n",
      "\n",
      "Boolean Series key will be reindexed to match DataFrame index.\n",
      "\n",
      "/opt/conda/lib/python3.7/site-packages/ipykernel_launcher.py:3: UserWarning:\n",
      "\n",
      "Boolean Series key will be reindexed to match DataFrame index.\n",
      "\n",
      "/opt/conda/lib/python3.7/site-packages/ipykernel_launcher.py:4: UserWarning:\n",
      "\n",
      "Boolean Series key will be reindexed to match DataFrame index.\n",
      "\n"
     ]
    }
   ],
   "source": [
    "df_new = df_new[df_new['event']!= 'Tutorial']\n",
    "group_246 = df_new[df['expid'] == 246]\n",
    "group_247 = df_new[df['expid'] == 247]\n",
    "group_248 = df_new[df['expid'] == 248]"
   ]
  },
  {
   "cell_type": "code",
   "execution_count": 20,
   "metadata": {},
   "outputs": [
    {
     "data": {
      "text/html": [
       "<div>\n",
       "<style scoped>\n",
       "    .dataframe tbody tr th:only-of-type {\n",
       "        vertical-align: middle;\n",
       "    }\n",
       "\n",
       "    .dataframe tbody tr th {\n",
       "        vertical-align: top;\n",
       "    }\n",
       "\n",
       "    .dataframe thead th {\n",
       "        text-align: right;\n",
       "    }\n",
       "</style>\n",
       "<table border=\"1\" class=\"dataframe\">\n",
       "  <thead>\n",
       "    <tr style=\"text-align: right;\">\n",
       "      <th></th>\n",
       "      <th>id_246</th>\n",
       "    </tr>\n",
       "    <tr>\n",
       "      <th>event</th>\n",
       "      <th></th>\n",
       "    </tr>\n",
       "  </thead>\n",
       "  <tbody>\n",
       "    <tr>\n",
       "      <td>CartScreenAppear</td>\n",
       "      <td>1266</td>\n",
       "    </tr>\n",
       "    <tr>\n",
       "      <td>MainScreenAppear</td>\n",
       "      <td>2450</td>\n",
       "    </tr>\n",
       "    <tr>\n",
       "      <td>OffersScreenAppear</td>\n",
       "      <td>1542</td>\n",
       "    </tr>\n",
       "    <tr>\n",
       "      <td>PaymentScreenSuccessful</td>\n",
       "      <td>1200</td>\n",
       "    </tr>\n",
       "  </tbody>\n",
       "</table>\n",
       "</div>"
      ],
      "text/plain": [
       "                         id_246\n",
       "event                          \n",
       "CartScreenAppear           1266\n",
       "MainScreenAppear           2450\n",
       "OffersScreenAppear         1542\n",
       "PaymentScreenSuccessful    1200"
      ]
     },
     "execution_count": 20,
     "metadata": {},
     "output_type": "execute_result"
    }
   ],
   "source": [
    "group_246_ev = group_246.groupby('event').agg({'id': 'count', 'id':pd.Series.nunique})\n",
    "group_246_ev.columns  = ['id_246']\n",
    "group_246_ev"
   ]
  },
  {
   "cell_type": "code",
   "execution_count": 21,
   "metadata": {},
   "outputs": [
    {
     "data": {
      "text/html": [
       "<div>\n",
       "<style scoped>\n",
       "    .dataframe tbody tr th:only-of-type {\n",
       "        vertical-align: middle;\n",
       "    }\n",
       "\n",
       "    .dataframe tbody tr th {\n",
       "        vertical-align: top;\n",
       "    }\n",
       "\n",
       "    .dataframe thead th {\n",
       "        text-align: right;\n",
       "    }\n",
       "</style>\n",
       "<table border=\"1\" class=\"dataframe\">\n",
       "  <thead>\n",
       "    <tr style=\"text-align: right;\">\n",
       "      <th></th>\n",
       "      <th>id_247</th>\n",
       "    </tr>\n",
       "    <tr>\n",
       "      <th>event</th>\n",
       "      <th></th>\n",
       "    </tr>\n",
       "  </thead>\n",
       "  <tbody>\n",
       "    <tr>\n",
       "      <td>CartScreenAppear</td>\n",
       "      <td>1238</td>\n",
       "    </tr>\n",
       "    <tr>\n",
       "      <td>MainScreenAppear</td>\n",
       "      <td>2476</td>\n",
       "    </tr>\n",
       "    <tr>\n",
       "      <td>OffersScreenAppear</td>\n",
       "      <td>1520</td>\n",
       "    </tr>\n",
       "    <tr>\n",
       "      <td>PaymentScreenSuccessful</td>\n",
       "      <td>1158</td>\n",
       "    </tr>\n",
       "  </tbody>\n",
       "</table>\n",
       "</div>"
      ],
      "text/plain": [
       "                         id_247\n",
       "event                          \n",
       "CartScreenAppear           1238\n",
       "MainScreenAppear           2476\n",
       "OffersScreenAppear         1520\n",
       "PaymentScreenSuccessful    1158"
      ]
     },
     "execution_count": 21,
     "metadata": {},
     "output_type": "execute_result"
    }
   ],
   "source": [
    "group_247_ev = group_247.groupby('event').agg({'id': 'count', 'id':pd.Series.nunique})\n",
    "group_247_ev.columns  = ['id_247']\n",
    "group_247_ev"
   ]
  },
  {
   "cell_type": "code",
   "execution_count": 22,
   "metadata": {},
   "outputs": [
    {
     "data": {
      "text/html": [
       "<div>\n",
       "<style scoped>\n",
       "    .dataframe tbody tr th:only-of-type {\n",
       "        vertical-align: middle;\n",
       "    }\n",
       "\n",
       "    .dataframe tbody tr th {\n",
       "        vertical-align: top;\n",
       "    }\n",
       "\n",
       "    .dataframe thead th {\n",
       "        text-align: right;\n",
       "    }\n",
       "</style>\n",
       "<table border=\"1\" class=\"dataframe\">\n",
       "  <thead>\n",
       "    <tr style=\"text-align: right;\">\n",
       "      <th></th>\n",
       "      <th>id_248</th>\n",
       "    </tr>\n",
       "    <tr>\n",
       "      <th>event</th>\n",
       "      <th></th>\n",
       "    </tr>\n",
       "  </thead>\n",
       "  <tbody>\n",
       "    <tr>\n",
       "      <td>CartScreenAppear</td>\n",
       "      <td>1230</td>\n",
       "    </tr>\n",
       "    <tr>\n",
       "      <td>MainScreenAppear</td>\n",
       "      <td>2493</td>\n",
       "    </tr>\n",
       "    <tr>\n",
       "      <td>OffersScreenAppear</td>\n",
       "      <td>1531</td>\n",
       "    </tr>\n",
       "    <tr>\n",
       "      <td>PaymentScreenSuccessful</td>\n",
       "      <td>1181</td>\n",
       "    </tr>\n",
       "  </tbody>\n",
       "</table>\n",
       "</div>"
      ],
      "text/plain": [
       "                         id_248\n",
       "event                          \n",
       "CartScreenAppear           1230\n",
       "MainScreenAppear           2493\n",
       "OffersScreenAppear         1531\n",
       "PaymentScreenSuccessful    1181"
      ]
     },
     "execution_count": 22,
     "metadata": {},
     "output_type": "execute_result"
    }
   ],
   "source": [
    "group_248_ev = group_248.groupby('event').agg({'id': 'count', 'id':pd.Series.nunique})\n",
    "group_248_ev.columns  = ['id_248']\n",
    "group_248_ev"
   ]
  },
  {
   "cell_type": "code",
   "execution_count": 23,
   "metadata": {
    "scrolled": true
   },
   "outputs": [
    {
     "data": {
      "text/html": [
       "<div>\n",
       "<style scoped>\n",
       "    .dataframe tbody tr th:only-of-type {\n",
       "        vertical-align: middle;\n",
       "    }\n",
       "\n",
       "    .dataframe tbody tr th {\n",
       "        vertical-align: top;\n",
       "    }\n",
       "\n",
       "    .dataframe thead th {\n",
       "        text-align: right;\n",
       "    }\n",
       "</style>\n",
       "<table border=\"1\" class=\"dataframe\">\n",
       "  <thead>\n",
       "    <tr style=\"text-align: right;\">\n",
       "      <th></th>\n",
       "      <th>id_246</th>\n",
       "      <th>id_247</th>\n",
       "      <th>id_246_247</th>\n",
       "      <th>id_248</th>\n",
       "    </tr>\n",
       "    <tr>\n",
       "      <th>event</th>\n",
       "      <th></th>\n",
       "      <th></th>\n",
       "      <th></th>\n",
       "      <th></th>\n",
       "    </tr>\n",
       "  </thead>\n",
       "  <tbody>\n",
       "    <tr>\n",
       "      <td>CartScreenAppear</td>\n",
       "      <td>1266</td>\n",
       "      <td>1238</td>\n",
       "      <td>2504</td>\n",
       "      <td>1230</td>\n",
       "    </tr>\n",
       "    <tr>\n",
       "      <td>MainScreenAppear</td>\n",
       "      <td>2450</td>\n",
       "      <td>2476</td>\n",
       "      <td>4926</td>\n",
       "      <td>2493</td>\n",
       "    </tr>\n",
       "    <tr>\n",
       "      <td>OffersScreenAppear</td>\n",
       "      <td>1542</td>\n",
       "      <td>1520</td>\n",
       "      <td>3062</td>\n",
       "      <td>1531</td>\n",
       "    </tr>\n",
       "    <tr>\n",
       "      <td>PaymentScreenSuccessful</td>\n",
       "      <td>1200</td>\n",
       "      <td>1158</td>\n",
       "      <td>2358</td>\n",
       "      <td>1181</td>\n",
       "    </tr>\n",
       "  </tbody>\n",
       "</table>\n",
       "</div>"
      ],
      "text/plain": [
       "                         id_246  id_247  id_246_247  id_248\n",
       "event                                                      \n",
       "CartScreenAppear           1266    1238        2504    1230\n",
       "MainScreenAppear           2450    2476        4926    2493\n",
       "OffersScreenAppear         1542    1520        3062    1531\n",
       "PaymentScreenSuccessful    1200    1158        2358    1181"
      ]
     },
     "execution_count": 23,
     "metadata": {},
     "output_type": "execute_result"
    }
   ],
   "source": [
    "group_all = group_246_ev.join(group_247_ev)\n",
    "group_all['id_246_247']= group_all['id_246'] +group_all['id_247']\n",
    "group_all = group_all.join(group_248_ev)\n",
    "group_all"
   ]
  },
  {
   "cell_type": "markdown",
   "metadata": {},
   "source": [
    "Напишем функцию для проверки нулевой гипотезы - между долями в А/А группах нет разницы. Гипотеза для А/А теста - между группами есть статистические различия, значение alpha выбираем = 0.01 - согласно с рекомендованным в методическом пособии. (различия между группами не более 1 %). Для А/В теста примем в 5% - считаю что если разница не более данного значения - нет видимых причин считать выборки разными"
   ]
  },
  {
   "cell_type": "code",
   "execution_count": 24,
   "metadata": {},
   "outputs": [],
   "source": [
    "def true_or_not(s_p1,t_p1,s_p2,t_p2,alpha):\n",
    "    #alpha = 0.01\n",
    "    \n",
    "    p1 = s_p1/t_p1\n",
    "    p2 = s_p2/t_p2\n",
    "    p_combined = (s_p1 + s_p2)/ (t_p1 + t_p2)\n",
    "    difference = p1 - p2\n",
    "    z_value = difference / cmath.sqrt(p_combined * (1-p_combined)*(1/t_p1 + 1/t_p2))\n",
    "    distr = st.norm(0,1)\n",
    "    p_value = (1 - distr.cdf(abs(z_value)))*2\n",
    "    print('p-value = ', p_value)\n",
    "    if (p_value < alpha):\n",
    "        print('Отвергаем нулевую гипотезу - между долями есть значимая разница')\n",
    "    else:\n",
    "        print('Не получилось отвергнуть нулевую гипотезу - нет основания считать доли разными')"
   ]
  },
  {
   "cell_type": "markdown",
   "metadata": {},
   "source": [
    "Будем проводить тест для каждого события в функции s_p1 и s_p2 - пользователи успешно достигшие события, а t_p1 и t_p2 - количество уникальных пользователей в каждой из груп"
   ]
  },
  {
   "cell_type": "code",
   "execution_count": 38,
   "metadata": {},
   "outputs": [
    {
     "name": "stdout",
     "output_type": "stream",
     "text": [
      "   level_0  index                    event  id_246  id_247  id_246_247  id_248\n",
      "0        0      0         MainScreenAppear    2450    2476        4926    2493\n",
      "1        1      1       OffersScreenAppear    1542    1520        3062    1531\n",
      "2        2      2         CartScreenAppear    1266    1238        2504    1230\n",
      "3        3      3  PaymentScreenSuccessful    1200    1158        2358    1181\n",
      "   expid    id\n",
      "0    246  2484\n",
      "1    247  2513\n",
      "2    248  2537\n"
     ]
    }
   ],
   "source": [
    "group_all = group_all.sort_values(by = 'id_246',ascending = False)\n",
    "group_all = group_all.reset_index()\n",
    "print(group_all)\n",
    "print(group_check)"
   ]
  },
  {
   "cell_type": "code",
   "execution_count": 26,
   "metadata": {},
   "outputs": [
    {
     "name": "stdout",
     "output_type": "stream",
     "text": [
      "2484\n",
      "2513\n",
      "Проверка для события:  MainScreenAppear\n",
      "s_p1 = 2450\n",
      "s_p1 = 2476\n",
      "p-value =  0.7570597232046099\n",
      "Не получилось отвергнуть нулевую гипотезу - нет основания считать доли разными\n",
      "Проверка для события:  OffersScreenAppear\n",
      "s_p1 = 1542\n",
      "s_p1 = 1520\n",
      "p-value =  0.2480954578522181\n",
      "Не получилось отвергнуть нулевую гипотезу - нет основания считать доли разными\n",
      "Проверка для события:  CartScreenAppear\n",
      "s_p1 = 1266\n",
      "s_p1 = 1238\n",
      "p-value =  0.22883372237997213\n",
      "Не получилось отвергнуть нулевую гипотезу - нет основания считать доли разными\n",
      "Проверка для события:  PaymentScreenSuccessful\n",
      "s_p1 = 1200\n",
      "s_p1 = 1158\n",
      "p-value =  0.11456679313141849\n",
      "Не получилось отвергнуть нулевую гипотезу - нет основания считать доли разными\n"
     ]
    }
   ],
   "source": [
    "t_p1 = np.array(group_check['id'])[0]\n",
    "t_p2 = np.array(group_check['id'])[1]\n",
    "print(t_p1)\n",
    "print(t_p2)\n",
    "for i in range(len(group_all.index)):\n",
    "    print('Проверка для события: ',group_all.iat[i,0])\n",
    "    s_p1 = group_all.iat[i,1]\n",
    "    s_p2 = group_all.iat[i,2]\n",
    "    print('s_p1 =',s_p1)\n",
    "    print(\"s_p1 =\",s_p2)\n",
    "    true_or_not(s_p1,t_p1,s_p2,t_p2, 0.01)"
   ]
  },
  {
   "cell_type": "markdown",
   "metadata": {},
   "source": [
    "s_p1 и s_p2 - это число успехов, количество уникальных пользователей попавших на определенный этап  \n",
    "t_p1 и t_p2 - это число попыток - количество уникальных пользователей в грууппе (выбиралось именно оно по совету наставника с слаке)  \n",
    "Проверил и то и то теперь (после работой над таблицей таблицей) берутся именно те значения которые я планировал   \n",
    "Выводы не значений этих элементов не стал убирать при проведении А/А теста для наглядности"
   ]
  },
  {
   "cell_type": "markdown",
   "metadata": {},
   "source": [
    "Так же проверим что расхождение ключевых метрик не превышает 1% "
   ]
  },
  {
   "cell_type": "code",
   "execution_count": 27,
   "metadata": {},
   "outputs": [
    {
     "name": "stdout",
     "output_type": "stream",
     "text": [
      "Различие по количеству пользователей = 1.1%\n",
      "Различие по количеству пользователей = 1.4%\n",
      "Различие по количеству пользователей = 2.2%\n",
      "Различие по количеству пользователей = 3.5%\n"
     ]
    }
   ],
   "source": [
    "for i in range(len(group_all.index)):\n",
    "    res = abs((group_all.iat[i,1]  - group_all.iat[i,2])/group_all.iat[i,1])\n",
    "    print('Различие по количеству пользователей = {0:.1%}'.format(res))"
   ]
  },
  {
   "cell_type": "markdown",
   "metadata": {},
   "source": [
    "Расхождение между ключевыми метриками по группам в среднем 2 % - больше чем рекомендуемое значение в 1 % . После применения статистических критериев не было выявлено различия между группами А/А теста"
   ]
  },
  {
   "cell_type": "markdown",
   "metadata": {},
   "source": [
    "Теперь проверим будет ли статистическое различие между группами А,А, А+А и группой В ."
   ]
  },
  {
   "cell_type": "markdown",
   "metadata": {},
   "source": [
    "Нулевая гипотеза для всех проверок - между между группами   нет значимой разницы"
   ]
  },
  {
   "cell_type": "code",
   "execution_count": 28,
   "metadata": {},
   "outputs": [
    {
     "name": "stdout",
     "output_type": "stream",
     "text": [
      "Проверка для события:  MainScreenAppear\n",
      "p-value =  0.2949721933554552\n",
      "Не получилось отвергнуть нулевую гипотезу - нет основания считать доли разными\n",
      "Проверка для события:  OffersScreenAppear\n",
      "p-value =  0.20836205402738917\n",
      "Не получилось отвергнуть нулевую гипотезу - нет основания считать доли разными\n",
      "Проверка для события:  CartScreenAppear\n",
      "p-value =  0.07842923237520116\n",
      "Не получилось отвергнуть нулевую гипотезу - нет основания считать доли разными\n",
      "Проверка для события:  PaymentScreenSuccessful\n",
      "p-value =  0.21225532756977983\n",
      "Не получилось отвергнуть нулевую гипотезу - нет основания считать доли разными\n"
     ]
    }
   ],
   "source": [
    "t_p1 = np.array(group_check['id'])[0]\n",
    "t_p2 = np.array(group_check['id'])[2]\n",
    "\n",
    "for i in range(len(group_all.index)):\n",
    "    print('Проверка для события: ',group_all.iat[i,0])\n",
    "    s_p1 = group_all.iat[i,1]\n",
    "    s_p2 = group_all.iat[i,4]\n",
    "    true_or_not(s_p1,t_p1,s_p2,t_p2, 0.05)"
   ]
  },
  {
   "cell_type": "code",
   "execution_count": 29,
   "metadata": {},
   "outputs": [
    {
     "name": "stdout",
     "output_type": "stream",
     "text": [
      "Проверка для события:  MainScreenAppear\n",
      "p-value =  0.4587053616621515\n",
      "Не получилось отвергнуть нулевую гипотезу - нет основания считать доли разными\n",
      "Проверка для события:  OffersScreenAppear\n",
      "p-value =  0.9197817830592259\n",
      "Не получилось отвергнуть нулевую гипотезу - нет основания считать доли разными\n",
      "Проверка для события:  CartScreenAppear\n",
      "p-value =  0.5786197879539783\n",
      "Не получилось отвергнуть нулевую гипотезу - нет основания считать доли разными\n",
      "Проверка для события:  PaymentScreenSuccessful\n",
      "p-value =  0.7373415053803964\n",
      "Не получилось отвергнуть нулевую гипотезу - нет основания считать доли разными\n"
     ]
    }
   ],
   "source": [
    "t_p1 = np.array(group_check['id'])[1]\n",
    "t_p2 = np.array(group_check['id'])[2]\n",
    "\n",
    "for i in range(len(group_all.index)):\n",
    "    print('Проверка для события: ',group_all.iat[i,0])\n",
    "    s_p1 = group_all.iat[i,2]\n",
    "    s_p2 = group_all.iat[i,4]\n",
    "    true_or_not(s_p1,t_p1,s_p2,t_p2, 0.05)"
   ]
  },
  {
   "cell_type": "markdown",
   "metadata": {},
   "source": [
    "В обоих случаях получаем что между группами А и В нет различий."
   ]
  },
  {
   "cell_type": "markdown",
   "metadata": {},
   "source": [
    "И для объединенных А А групп"
   ]
  },
  {
   "cell_type": "code",
   "execution_count": 30,
   "metadata": {},
   "outputs": [
    {
     "name": "stdout",
     "output_type": "stream",
     "text": [
      "Проверка для события:  MainScreenAppear\n",
      "p-value =  0.29424526837179577\n",
      "Не получилось отвергнуть нулевую гипотезу - нет основания считать доли разными\n",
      "Проверка для события:  OffersScreenAppear\n",
      "p-value =  0.43425549655188256\n",
      "Не получилось отвергнуть нулевую гипотезу - нет основания считать доли разными\n",
      "Проверка для события:  CartScreenAppear\n",
      "p-value =  0.18175875284404386\n",
      "Не получилось отвергнуть нулевую гипотезу - нет основания считать доли разными\n",
      "Проверка для события:  PaymentScreenSuccessful\n",
      "p-value =  0.6004294282308704\n",
      "Не получилось отвергнуть нулевую гипотезу - нет основания считать доли разными\n"
     ]
    }
   ],
   "source": [
    "t_p1 = np.array(group_check['id'])[0] + np.array(group_check['id'])[1]\n",
    "t_p2 = np.array(group_check['id'])[2]\n",
    "for k in range(len(group_all.index)):\n",
    "        print('Проверка для события: ',group_all.iat[k,0])\n",
    "        s_p1 = group_all.iat[k,3]\n",
    "        s_p2 = group_all.iat[k,4]\n",
    "        true_or_not(s_p1,t_p1,s_p2,t_p2, 0.05)"
   ]
  },
  {
   "cell_type": "markdown",
   "metadata": {},
   "source": [
    "Для объединенной группы АА и В все равно получаем что нет разницы. "
   ]
  },
  {
   "cell_type": "markdown",
   "metadata": {},
   "source": [
    "Сравния различия по всем событиям, мы несколько раз сравниваем выборки из одной ген. совокупности - имеем дело с множественным статистическим анализом. С целью уменьшения групповой ошибки первого рода, следует применить поправку к выбранному уровню значимости. Для этого применим метод  Бонферрони"
   ]
  },
  {
   "cell_type": "code",
   "execution_count": 31,
   "metadata": {},
   "outputs": [],
   "source": [
    "alpha = 0.05/16"
   ]
  },
  {
   "cell_type": "code",
   "execution_count": 32,
   "metadata": {},
   "outputs": [
    {
     "name": "stdout",
     "output_type": "stream",
     "text": [
      "Проверка для события:  MainScreenAppear\n",
      "p-value =  0.2949721933554552\n",
      "Не получилось отвергнуть нулевую гипотезу - нет основания считать доли разными\n",
      "Проверка для события:  OffersScreenAppear\n",
      "p-value =  0.20836205402738917\n",
      "Не получилось отвергнуть нулевую гипотезу - нет основания считать доли разными\n",
      "Проверка для события:  CartScreenAppear\n",
      "p-value =  0.07842923237520116\n",
      "Не получилось отвергнуть нулевую гипотезу - нет основания считать доли разными\n",
      "Проверка для события:  PaymentScreenSuccessful\n",
      "p-value =  0.21225532756977983\n",
      "Не получилось отвергнуть нулевую гипотезу - нет основания считать доли разными\n"
     ]
    }
   ],
   "source": [
    "t_p1 = np.array(group_check['id'])[0]\n",
    "t_p2 = np.array(group_check['id'])[2]\n",
    "\n",
    "for i in range(len(group_all.index)):\n",
    "    print('Проверка для события: ',group_all.iat[i,0])\n",
    "    s_p1 = group_all.iat[i,1]\n",
    "    s_p2 = group_all.iat[i,4]\n",
    "    true_or_not(s_p1,t_p1,s_p2,t_p2, alpha)"
   ]
  },
  {
   "cell_type": "code",
   "execution_count": 33,
   "metadata": {},
   "outputs": [
    {
     "name": "stdout",
     "output_type": "stream",
     "text": [
      "Проверка для события:  MainScreenAppear\n",
      "p-value =  0.4587053616621515\n",
      "Не получилось отвергнуть нулевую гипотезу - нет основания считать доли разными\n",
      "Проверка для события:  OffersScreenAppear\n",
      "p-value =  0.9197817830592259\n",
      "Не получилось отвергнуть нулевую гипотезу - нет основания считать доли разными\n",
      "Проверка для события:  CartScreenAppear\n",
      "p-value =  0.5786197879539783\n",
      "Не получилось отвергнуть нулевую гипотезу - нет основания считать доли разными\n",
      "Проверка для события:  PaymentScreenSuccessful\n",
      "p-value =  0.7373415053803964\n",
      "Не получилось отвергнуть нулевую гипотезу - нет основания считать доли разными\n"
     ]
    }
   ],
   "source": [
    "t_p1 = np.array(group_check['id'])[1]\n",
    "t_p2 = np.array(group_check['id'])[2]\n",
    "\n",
    "for i in range(len(group_all.index)):\n",
    "    print('Проверка для события: ',group_all.iat[i,0])\n",
    "    s_p1 = group_all.iat[i,2]\n",
    "    s_p2 = group_all.iat[i,4]\n",
    "    true_or_not(s_p1,t_p1,s_p2,t_p2, alpha)"
   ]
  },
  {
   "cell_type": "code",
   "execution_count": 34,
   "metadata": {},
   "outputs": [
    {
     "name": "stdout",
     "output_type": "stream",
     "text": [
      "Проверка для события:  MainScreenAppear\n",
      "p-value =  0.29424526837179577\n",
      "Не получилось отвергнуть нулевую гипотезу - нет основания считать доли разными\n",
      "Проверка для события:  OffersScreenAppear\n",
      "p-value =  0.43425549655188256\n",
      "Не получилось отвергнуть нулевую гипотезу - нет основания считать доли разными\n",
      "Проверка для события:  CartScreenAppear\n",
      "p-value =  0.18175875284404386\n",
      "Не получилось отвергнуть нулевую гипотезу - нет основания считать доли разными\n",
      "Проверка для события:  PaymentScreenSuccessful\n",
      "p-value =  0.6004294282308704\n",
      "Не получилось отвергнуть нулевую гипотезу - нет основания считать доли разными\n"
     ]
    }
   ],
   "source": [
    "t_p1 = np.array(group_check['id'])[0] + np.array(group_check['id'])[1]\n",
    "t_p2 = np.array(group_check['id'])[2]\n",
    "for i in range(len(group_all.index)):\n",
    "        print('Проверка для события: ',group_all.iat[i,0])\n",
    "        s_p1 = group_all.iat[i,3]\n",
    "        s_p2 = group_all.iat[i,4]\n",
    "        true_or_not(s_p1,t_p1,s_p2,t_p2, alpha)"
   ]
  },
  {
   "cell_type": "markdown",
   "metadata": {},
   "source": [
    "После внесенных правок в значение коэффициентов alpha, по прежнему получаем что нет повода считать что есть разницы между группами"
   ]
  },
  {
   "cell_type": "markdown",
   "metadata": {},
   "source": [
    "## Вывод   \n",
    "Входящий фрейм был обработан на дубликаты и пустые значения.  \n",
    "Были посчитаны:  \n",
    "1. Общее количество пользователей (7551) и событий (243713).\n",
    "2. Среднее количество событий на пользователя (32).\n",
    "3. Доля пользователей которые хоть раз совершали событие (98.47).  \n",
    "Составлено предположение о последовательности событий :  \n",
    "1. MainScreenAppear - открытие главной страницы \n",
    "2. OffersScreenAppear - открытие страницы с предложениями  \n",
    "3. CartScreenAppear - открытие страницы оплаты (или заполнений данных для оплаты)  \n",
    "4. PaymentScreenSuccessful\t - открытие страцы с успешнвм завершением оплаты  \n",
    "Подсчитали процент польхователей переходящих от одного этапа воронки на другой. Получили,что наибольшая потеря пользователей происходит на этапе перехода от главного экрана к открытию страницы с предложением (61%)\n",
    "При помощи статистических методов сравнили группы с измененным шрифтом и без него , получили что различие между выборки из 12 проведенных тестов только в 1 есть различие.\n",
    "\n",
    "# Итог\n",
    "Считаю, что  изменение шрифта не принесло никаких значимых изменений (как в положительную так и в отрицательную сторону). Можно успокоить менеджеров - показатели не изменились."
   ]
  },
  {
   "cell_type": "code",
   "execution_count": null,
   "metadata": {},
   "outputs": [],
   "source": []
  }
 ],
 "metadata": {
  "kernelspec": {
   "display_name": "Python 3",
   "language": "python",
   "name": "python3"
  },
  "language_info": {
   "codemirror_mode": {
    "name": "ipython",
    "version": 3
   },
   "file_extension": ".py",
   "mimetype": "text/x-python",
   "name": "python",
   "nbconvert_exporter": "python",
   "pygments_lexer": "ipython3",
   "version": "3.7.6"
  }
 },
 "nbformat": 4,
 "nbformat_minor": 2
}
